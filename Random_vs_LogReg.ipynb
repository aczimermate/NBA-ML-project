{
 "cells": [
  {
   "attachments": {},
   "cell_type": "markdown",
   "metadata": {},
   "source": [
    "## Target Feature Prediction: \n",
    "Evaluate and compare the Random and the Logistic Regression models"
   ]
  },
  {
   "attachments": {},
   "cell_type": "markdown",
   "metadata": {},
   "source": [
    "### 1. Import the framework and generate the models for comparison"
   ]
  },
  {
   "cell_type": "code",
   "execution_count": 1,
   "metadata": {},
   "outputs": [
    {
     "name": "stdout",
     "output_type": "stream",
     "text": [
      "Done\n"
     ]
    },
    {
     "name": "stderr",
     "output_type": "stream",
     "text": [
      "c:\\Users\\czime\\OneDrive\\Privát\\Egyetem\\PostGrad\\NBA-ML-project\\.venv\\Lib\\site-packages\\sklearn\\linear_model\\_logistic.py:458: ConvergenceWarning: lbfgs failed to converge (status=1):\n",
      "STOP: TOTAL NO. of ITERATIONS REACHED LIMIT.\n",
      "\n",
      "Increase the number of iterations (max_iter) or scale the data as shown in:\n",
      "    https://scikit-learn.org/stable/modules/preprocessing.html\n",
      "Please also refer to the documentation for alternative solver options:\n",
      "    https://scikit-learn.org/stable/modules/linear_model.html#logistic-regression\n",
      "  n_iter_i = _check_optimize_result(\n"
     ]
    }
   ],
   "source": [
    "import ML_Framework\n",
    "import numpy as np\n",
    "\n",
    "# define random and logistic regression models\n",
    "random_model = ML_Framework.Model()\n",
    "logreg_model = ML_Framework.Model(user_defined_model='lr')\n",
    "\n",
    "# run ML framework over both of the defined models and generate the predictions, confusion matrices and classification reports\n",
    "rand_y_pred, rand_cm, rand_cp = random_model.run_framework()\n",
    "lr_y_pred, lr_cm, lr_cp = logreg_model.run_framework()\n",
    "\n",
    "print('Done')"
   ]
  },
  {
   "attachments": {},
   "cell_type": "markdown",
   "metadata": {},
   "source": [
    "### 2. Random model evaluation: \n",
    "The classification model seems to be accurate, however it was unable to successfully predict any of drafted players from the test set (class: drafted_flag = 1). The reason for the high accuracy value (98%) is that the empirical distribution shows that only 1% of the players are drafted, so in case the model misses to classify that 1% as drafted, it still classifies 98% as not drafted which is true."
   ]
  },
  {
   "cell_type": "code",
   "execution_count": 2,
   "metadata": {},
   "outputs": [
    {
     "name": "stdout",
     "output_type": "stream",
     "text": [
      "Classification report:\n",
      "\n",
      "                      0      1  accuracy     macro avg  weighted avg\n",
      "precision      0.990324    0.0  0.980513      0.495162      0.980837\n",
      "recall         0.989997    0.0  0.980513      0.494998      0.980513\n",
      "f1-score       0.990160    0.0  0.980513      0.495080      0.980675\n",
      "support    12096.000000  117.0  0.980513  12213.000000  12213.000000\n",
      "\n",
      "Confusion matrix:\n",
      "\n",
      "[[11975   121]\n",
      " [  117     0]]\n"
     ]
    }
   ],
   "source": [
    "print('Classification report:', rand_cp, 'Confusion matrix:', rand_cm, sep='\\n\\n')"
   ]
  },
  {
   "attachments": {},
   "cell_type": "markdown",
   "metadata": {},
   "source": [
    "### 3. Logistic Regression model evaluation: \n",
    "The classification model's precision for the drafted_flag = 1 outcomes - which is the negative label in our classification - is 66%, which is a way better performance compared to the random model's precision."
   ]
  },
  {
   "cell_type": "code",
   "execution_count": 3,
   "metadata": {},
   "outputs": [
    {
     "name": "stdout",
     "output_type": "stream",
     "text": [
      "Classification report:\n",
      "\n",
      "                      0           1  accuracy     macro avg  weighted avg\n",
      "precision      0.992847    0.666667  0.991484      0.829757      0.989615\n",
      "recall         0.998594    0.280992  0.991484      0.639793      0.991484\n",
      "f1-score       0.995712    0.395349  0.991484      0.695530      0.989764\n",
      "support    12092.000000  121.000000  0.991484  12213.000000  12213.000000\n",
      "\n",
      "Confusion matrix:\n",
      "\n",
      "[[12075    17]\n",
      " [   87    34]]\n"
     ]
    }
   ],
   "source": [
    "print('Classification report:', lr_cp, 'Confusion matrix:', lr_cm, sep='\\n\\n')"
   ]
  }
 ],
 "metadata": {
  "kernelspec": {
   "display_name": ".venv",
   "language": "python",
   "name": "python3"
  },
  "language_info": {
   "codemirror_mode": {
    "name": "ipython",
    "version": 3
   },
   "file_extension": ".py",
   "mimetype": "text/x-python",
   "name": "python",
   "nbconvert_exporter": "python",
   "pygments_lexer": "ipython3",
   "version": "3.11.1"
  },
  "orig_nbformat": 4,
  "vscode": {
   "interpreter": {
    "hash": "96b1e1657720b984c4930f8acb2c1617725bea28ec5267f83eed1c78a9db5058"
   }
  }
 },
 "nbformat": 4,
 "nbformat_minor": 2
}
