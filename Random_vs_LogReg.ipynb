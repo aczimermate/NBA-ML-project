{
 "cells": [
  {
   "cell_type": "code",
   "execution_count": 1,
   "metadata": {},
   "outputs": [
    {
     "name": "stdout",
     "output_type": "stream",
     "text": [
      "Done\n"
     ]
    },
    {
     "name": "stderr",
     "output_type": "stream",
     "text": [
      "c:\\Users\\czime\\OneDrive\\Privát\\Egyetem\\PostGrad\\NBA-ML-project\\.venv\\Lib\\site-packages\\sklearn\\linear_model\\_logistic.py:458: ConvergenceWarning: lbfgs failed to converge (status=1):\n",
      "STOP: TOTAL NO. of ITERATIONS REACHED LIMIT.\n",
      "\n",
      "Increase the number of iterations (max_iter) or scale the data as shown in:\n",
      "    https://scikit-learn.org/stable/modules/preprocessing.html\n",
      "Please also refer to the documentation for alternative solver options:\n",
      "    https://scikit-learn.org/stable/modules/linear_model.html#logistic-regression\n",
      "  n_iter_i = _check_optimize_result(\n"
     ]
    }
   ],
   "source": [
    "import ML_Framework\n",
    "import numpy as np\n",
    "\n",
    "# create array to store the evaluation results\n",
    "cm_arr = []\n",
    "\n",
    "# define random and logistic regression models\n",
    "random_model = ML_Framework.Model()\n",
    "logreg_model = ML_Framework.Model(user_defined_model='lr')\n",
    "\n",
    "# run ML framework over both of the defined models and generate the predictions, confusion matrices and classification reports\n",
    "rand_y_pred, rand_cm, rand_cp = random_model.run_framework()\n",
    "lr_y_pred, lr_cm, lr_cp = logreg_model.run_framework()\n",
    "cm_arr.append(lr_cm)\n",
    "\n",
    "print('Done')"
   ]
  },
  {
   "cell_type": "code",
   "execution_count": 2,
   "metadata": {},
   "outputs": [
    {
     "data": {
      "text/html": [
       "<div>\n",
       "<style scoped>\n",
       "    .dataframe tbody tr th:only-of-type {\n",
       "        vertical-align: middle;\n",
       "    }\n",
       "\n",
       "    .dataframe tbody tr th {\n",
       "        vertical-align: top;\n",
       "    }\n",
       "\n",
       "    .dataframe thead th {\n",
       "        text-align: right;\n",
       "    }\n",
       "</style>\n",
       "<table border=\"1\" class=\"dataframe\">\n",
       "  <thead>\n",
       "    <tr style=\"text-align: right;\">\n",
       "      <th></th>\n",
       "      <th>0</th>\n",
       "      <th>1</th>\n",
       "      <th>accuracy</th>\n",
       "      <th>macro avg</th>\n",
       "      <th>weighted avg</th>\n",
       "    </tr>\n",
       "  </thead>\n",
       "  <tbody>\n",
       "    <tr>\n",
       "      <th>precision</th>\n",
       "      <td>0.990894</td>\n",
       "      <td>0.0</td>\n",
       "      <td>0.980103</td>\n",
       "      <td>0.495447</td>\n",
       "      <td>0.981969</td>\n",
       "    </tr>\n",
       "    <tr>\n",
       "      <th>recall</th>\n",
       "      <td>0.989011</td>\n",
       "      <td>0.0</td>\n",
       "      <td>0.980103</td>\n",
       "      <td>0.494505</td>\n",
       "      <td>0.980103</td>\n",
       "    </tr>\n",
       "    <tr>\n",
       "      <th>f1-score</th>\n",
       "      <td>0.989952</td>\n",
       "      <td>0.0</td>\n",
       "      <td>0.980103</td>\n",
       "      <td>0.494976</td>\n",
       "      <td>0.981035</td>\n",
       "    </tr>\n",
       "    <tr>\n",
       "      <th>support</th>\n",
       "      <td>12103.000000</td>\n",
       "      <td>110.0</td>\n",
       "      <td>0.980103</td>\n",
       "      <td>12213.000000</td>\n",
       "      <td>12213.000000</td>\n",
       "    </tr>\n",
       "  </tbody>\n",
       "</table>\n",
       "</div>"
      ],
      "text/plain": [
       "                      0      1  accuracy     macro avg  weighted avg\n",
       "precision      0.990894    0.0  0.980103      0.495447      0.981969\n",
       "recall         0.989011    0.0  0.980103      0.494505      0.980103\n",
       "f1-score       0.989952    0.0  0.980103      0.494976      0.981035\n",
       "support    12103.000000  110.0  0.980103  12213.000000  12213.000000"
      ]
     },
     "execution_count": 2,
     "metadata": {},
     "output_type": "execute_result"
    }
   ],
   "source": [
    "rand_cp"
   ]
  },
  {
   "cell_type": "code",
   "execution_count": 3,
   "metadata": {},
   "outputs": [
    {
     "data": {
      "text/html": [
       "<div>\n",
       "<style scoped>\n",
       "    .dataframe tbody tr th:only-of-type {\n",
       "        vertical-align: middle;\n",
       "    }\n",
       "\n",
       "    .dataframe tbody tr th {\n",
       "        vertical-align: top;\n",
       "    }\n",
       "\n",
       "    .dataframe thead th {\n",
       "        text-align: right;\n",
       "    }\n",
       "</style>\n",
       "<table border=\"1\" class=\"dataframe\">\n",
       "  <thead>\n",
       "    <tr style=\"text-align: right;\">\n",
       "      <th></th>\n",
       "      <th>0</th>\n",
       "      <th>1</th>\n",
       "      <th>accuracy</th>\n",
       "      <th>macro avg</th>\n",
       "      <th>weighted avg</th>\n",
       "    </tr>\n",
       "  </thead>\n",
       "  <tbody>\n",
       "    <tr>\n",
       "      <th>precision</th>\n",
       "      <td>0.993342</td>\n",
       "      <td>0.583333</td>\n",
       "      <td>0.99173</td>\n",
       "      <td>0.788337</td>\n",
       "      <td>0.989682</td>\n",
       "    </tr>\n",
       "    <tr>\n",
       "      <th>recall</th>\n",
       "      <td>0.998348</td>\n",
       "      <td>0.256881</td>\n",
       "      <td>0.99173</td>\n",
       "      <td>0.627614</td>\n",
       "      <td>0.991730</td>\n",
       "    </tr>\n",
       "    <tr>\n",
       "      <th>f1-score</th>\n",
       "      <td>0.995838</td>\n",
       "      <td>0.356688</td>\n",
       "      <td>0.99173</td>\n",
       "      <td>0.676263</td>\n",
       "      <td>0.990134</td>\n",
       "    </tr>\n",
       "    <tr>\n",
       "      <th>support</th>\n",
       "      <td>12104.000000</td>\n",
       "      <td>109.000000</td>\n",
       "      <td>0.99173</td>\n",
       "      <td>12213.000000</td>\n",
       "      <td>12213.000000</td>\n",
       "    </tr>\n",
       "  </tbody>\n",
       "</table>\n",
       "</div>"
      ],
      "text/plain": [
       "                      0           1  accuracy     macro avg  weighted avg\n",
       "precision      0.993342    0.583333   0.99173      0.788337      0.989682\n",
       "recall         0.998348    0.256881   0.99173      0.627614      0.991730\n",
       "f1-score       0.995838    0.356688   0.99173      0.676263      0.990134\n",
       "support    12104.000000  109.000000   0.99173  12213.000000  12213.000000"
      ]
     },
     "execution_count": 3,
     "metadata": {},
     "output_type": "execute_result"
    }
   ],
   "source": [
    "lr_cp"
   ]
  },
  {
   "cell_type": "code",
   "execution_count": 4,
   "metadata": {},
   "outputs": [
    {
     "data": {
      "text/plain": [
       "array([[11970,   133],\n",
       "       [  110,     0]], dtype=int64)"
      ]
     },
     "execution_count": 4,
     "metadata": {},
     "output_type": "execute_result"
    }
   ],
   "source": [
    "rand_cm"
   ]
  },
  {
   "cell_type": "code",
   "execution_count": 5,
   "metadata": {},
   "outputs": [
    {
     "data": {
      "text/plain": [
       "array([[12084,    20],\n",
       "       [   81,    28]], dtype=int64)"
      ]
     },
     "execution_count": 5,
     "metadata": {},
     "output_type": "execute_result"
    }
   ],
   "source": [
    "lr_cm"
   ]
  }
 ],
 "metadata": {
  "kernelspec": {
   "display_name": ".venv",
   "language": "python",
   "name": "python3"
  },
  "language_info": {
   "codemirror_mode": {
    "name": "ipython",
    "version": 3
   },
   "file_extension": ".py",
   "mimetype": "text/x-python",
   "name": "python",
   "nbconvert_exporter": "python",
   "pygments_lexer": "ipython3",
   "version": "3.11.1"
  },
  "orig_nbformat": 4,
  "vscode": {
   "interpreter": {
    "hash": "96b1e1657720b984c4930f8acb2c1617725bea28ec5267f83eed1c78a9db5058"
   }
  }
 },
 "nbformat": 4,
 "nbformat_minor": 2
}
