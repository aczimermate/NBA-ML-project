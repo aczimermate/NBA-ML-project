{
 "cells": [
  {
   "cell_type": "code",
   "execution_count": 1,
   "metadata": {},
   "outputs": [],
   "source": [
    "from ML_Framework_refactored import NBA_data,evaluation,logistic_regression"
   ]
  },
  {
   "cell_type": "code",
   "execution_count": 2,
   "metadata": {},
   "outputs": [],
   "source": [
    "data = NBA_data()"
   ]
  },
  {
   "cell_type": "code",
   "execution_count": 3,
   "metadata": {},
   "outputs": [],
   "source": [
    "model = logistic_regression()"
   ]
  },
  {
   "cell_type": "code",
   "execution_count": 4,
   "metadata": {},
   "outputs": [
    {
     "ename": "TypeError",
     "evalue": "evaluation.skf_eval_precision() missing 1 required positional argument: 'self'",
     "output_type": "error",
     "traceback": [
      "\u001b[1;31m---------------------------------------------------------------------------\u001b[0m",
      "\u001b[1;31mTypeError\u001b[0m                                 Traceback (most recent call last)",
      "Cell \u001b[1;32mIn[4], line 1\u001b[0m\n\u001b[1;32m----> 1\u001b[0m eval_score \u001b[39m=\u001b[39m evaluation\u001b[39m.\u001b[39;49mskf_eval_precision(X\u001b[39m=\u001b[39;49mdata\u001b[39m.\u001b[39;49mX,y\u001b[39m=\u001b[39;49mdata\u001b[39m.\u001b[39;49my,model\u001b[39m=\u001b[39;49mmodel,number_of_splits\u001b[39m=\u001b[39;49m\u001b[39m10\u001b[39;49m)\n",
      "\u001b[1;31mTypeError\u001b[0m: evaluation.skf_eval_precision() missing 1 required positional argument: 'self'"
     ]
    }
   ],
   "source": [
    "eval_score = evaluation.skf_eval_precision(X=data.X,y=data.y,model=model,number_of_splits=10)"
   ]
  }
 ],
 "metadata": {
  "kernelspec": {
   "display_name": ".venv",
   "language": "python",
   "name": "python3"
  },
  "language_info": {
   "codemirror_mode": {
    "name": "ipython",
    "version": 3
   },
   "file_extension": ".py",
   "mimetype": "text/x-python",
   "name": "python",
   "nbconvert_exporter": "python",
   "pygments_lexer": "ipython3",
   "version": "3.11.2"
  },
  "orig_nbformat": 4,
  "vscode": {
   "interpreter": {
    "hash": "96b1e1657720b984c4930f8acb2c1617725bea28ec5267f83eed1c78a9db5058"
   }
  }
 },
 "nbformat": 4,
 "nbformat_minor": 2
}
