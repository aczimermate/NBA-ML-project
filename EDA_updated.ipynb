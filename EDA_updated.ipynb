{
   "cells": [
      {
         "attachments": {},
         "cell_type": "markdown",
         "metadata": {},
         "source": [
            "# Exploratory Data Analysis: preprocessing, data cleansing, statistical analysis and visualizations"
         ]
      },
      {
         "attachments": {},
         "cell_type": "markdown",
         "metadata": {},
         "source": [
            "### 1. import the necessary libraries for the analysis"
         ]
      },
      {
         "cell_type": "code",
         "execution_count": 1,
         "metadata": {},
         "outputs": [],
         "source": [
            "import pandas as pd\n",
            "import matplotlib.pyplot as plt\n",
            "import numpy as np\n",
            "import seaborn as sns"
         ]
      },
      {
         "attachments": {},
         "cell_type": "markdown",
         "metadata": {},
         "source": [
            "### 2. load data files and merge them into one DataFrame"
         ]
      },
      {
         "attachments": {},
         "cell_type": "markdown",
         "metadata": {},
         "source": [
            "Read college player statistics from 2009 to 2022. The data can be found in two different csv files, one contains stats from 2009 to 2021, while the other one contains the latest statistics (2022)."
         ]
      },
      {
         "cell_type": "code",
         "execution_count": 2,
         "metadata": {},
         "outputs": [],
         "source": [
            "college1 = pd.read_csv('Data\\CollegeBasketballPlayers2009-2021.csv',low_memory=False)\n",
            "college2 = pd.read_csv('Data\\CollegeBasketballPlayers2022.csv',low_memory=False)"
         ]
      },
      {
         "attachments": {},
         "cell_type": "markdown",
         "metadata": {},
         "source": [
            "The other data source contains draft picks at the nba draft for each year from 2009 to 2021."
         ]
      },
      {
         "cell_type": "code",
         "execution_count": 3,
         "metadata": {},
         "outputs": [],
         "source": [
            "draft = pd.read_excel('Data\\DraftedPlayers2009-2021.xlsx')"
         ]
      },
      {
         "attachments": {},
         "cell_type": "markdown",
         "metadata": {},
         "source": [
            "First of all, lets concatenate the college statistical dataframes."
         ]
      },
      {
         "cell_type": "code",
         "execution_count": 4,
         "metadata": {},
         "outputs": [
            {
               "name": "stdout",
               "output_type": "stream",
               "text": [
                  "True\n"
               ]
            }
         ],
         "source": [
            "college = pd.concat([college1,college2])\n",
            "print(college1.size+college2.size == college.size)"
         ]
      },
      {
         "attachments": {},
         "cell_type": "markdown",
         "metadata": {},
         "source": [
            "Since the draft data set has merged cells in the table header the first row must be dropped."
         ]
      },
      {
         "cell_type": "code",
         "execution_count": 5,
         "metadata": {},
         "outputs": [],
         "source": [
            "draft.drop(0,axis=0,inplace=True)"
         ]
      },
      {
         "attachments": {},
         "cell_type": "markdown",
         "metadata": {},
         "source": [
            "Rename the ROUND.1 column to PICK, and modify the PLAYER to player_name, so it can be act as a key during the join with the college data set."
         ]
      },
      {
         "cell_type": "code",
         "execution_count": 6,
         "metadata": {},
         "outputs": [],
         "source": [
            "draft.rename(\n",
            "    columns={\n",
            "        \"PLAYER\": \"player_name\", \n",
            "        \"TEAM\": \"drafted_by\", \n",
            "        \"YEAR\" : \"year\", \n",
            "        \"ROUND\" : \"draft_round\", \n",
            "        \"ROUND.1\" : \"draft_pick\"},\n",
            "        inplace=True)"
         ]
      },
      {
         "attachments": {},
         "cell_type": "markdown",
         "metadata": {},
         "source": [
            "Convert all column names to lowcase letters."
         ]
      },
      {
         "cell_type": "code",
         "execution_count": 7,
         "metadata": {},
         "outputs": [],
         "source": [
            "draft.columns = draft.columns.str.lower()"
         ]
      },
      {
         "attachments": {},
         "cell_type": "markdown",
         "metadata": {},
         "source": [
            "Merge the college set with the draft data to identify those players who have been drafted after playing in college."
         ]
      },
      {
         "cell_type": "code",
         "execution_count": 8,
         "metadata": {},
         "outputs": [],
         "source": [
            "df = pd.merge(college,draft,how='left',on=['player_name','year'])"
         ]
      },
      {
         "attachments": {},
         "cell_type": "markdown",
         "metadata": {},
         "source": [
            "### 3. clean the data set and prepare it for statistical analyzis and further analytical steps"
         ]
      },
      {
         "attachments": {},
         "cell_type": "markdown",
         "metadata": {},
         "source": [
            "Create a new column to identify the drafted players."
         ]
      },
      {
         "cell_type": "code",
         "execution_count": 9,
         "metadata": {},
         "outputs": [],
         "source": [
            "df['drafted_flag'] = (~df.overall.isnull())*1"
         ]
      },
      {
         "attachments": {},
         "cell_type": "markdown",
         "metadata": {},
         "source": [
            "Since the draft data does not contain information about 2022, rows for 2022 should removed from the 'df' data set and saved into a new dataframe."
         ]
      },
      {
         "cell_type": "code",
         "execution_count": 10,
         "metadata": {},
         "outputs": [],
         "source": [
            "df_2022 = df[df.year == 2022]\n",
            "df = df[df.year < 2022]"
         ]
      },
      {
         "attachments": {},
         "cell_type": "markdown",
         "metadata": {},
         "source": [
            "Rename unnamed column 64 for clearity."
         ]
      },
      {
         "cell_type": "code",
         "execution_count": 11,
         "metadata": {},
         "outputs": [],
         "source": [
            "df.rename(columns={'Unnamed: 64':'player_position'},inplace=True)"
         ]
      },
      {
         "attachments": {},
         "cell_type": "markdown",
         "metadata": {},
         "source": [
            "Drop unknown, irrelevant (not statistical, such as 'num': jersey number column) or dupplicate columns."
         ]
      },
      {
         "cell_type": "code",
         "execution_count": 12,
         "metadata": {},
         "outputs": [
            {
               "name": "stdout",
               "output_type": "stream",
               "text": [
                  "overall         60459\n",
                  "draft_pick      60459\n",
                  "draft_round     60459\n",
                  "affiliation     60459\n",
                  "drafted_by      60459\n",
                  "                ...  \n",
                  "adjoe               0\n",
                  "pfr                 0\n",
                  "year                0\n",
                  "pid                 0\n",
                  "drafted_flag        0\n",
                  "Length: 72, dtype: int64\n"
               ]
            }
         ],
         "source": [
            "# find NaN or null values\n",
            "print(df.isnull().sum().sort_values(ascending=False))"
         ]
      },
      {
         "cell_type": "code",
         "execution_count": 13,
         "metadata": {},
         "outputs": [],
         "source": [
            "# unknown with nan values\n",
            "df = df.drop('Unnamed: 65', axis=1)\n",
            "# irrelevant, it can be used for more sophisticated prediction tasks\n",
            "df = df.drop('pick', axis=1)\n",
            "# irrelevant, it can be used for more sophisticated prediction tasks\n",
            "df = df.drop('overall', axis=1)\n",
            "# irrelevant, it can be used for more sophisticated prediction tasks\n",
            "df = df.drop('affiliation', axis=1)\n",
            "# irrelevant, it can be used for more sophisticated prediction tasks\n",
            "df = df.drop('draft_round', axis=1)\n",
            "# irrelevant, it can be used for more sophisticated prediction tasks\n",
            "df = df.drop('draft_pick', axis=1)\n",
            "# irrelevant, not statistical data (jersey number)\n",
            "df = df.drop('num', axis=1)\n",
            "# irrelevant, not statistical data (player id in the database)\n",
            "df = df.drop('pid', axis=1)\n",
            "# irrelevant, not statistical data (unique value for all rows)\n",
            "df = df.drop('type', axis=1)"
         ]
      },
      {
         "attachments": {},
         "cell_type": "markdown",
         "metadata": {},
         "source": [
            "Handle missing values."
         ]
      },
      {
         "cell_type": "code",
         "execution_count": 14,
         "metadata": {},
         "outputs": [],
         "source": [
            "df.drafted_flag.fillna(value=0, inplace=True)\n",
            "df.yr.fillna(value='None', inplace=True)\n",
            "df.player_position.fillna(value='None', inplace=True)"
         ]
      },
      {
         "attachments": {},
         "cell_type": "markdown",
         "metadata": {},
         "source": [
            "Check non integer columns and find the categorical values."
         ]
      },
      {
         "cell_type": "code",
         "execution_count": 15,
         "metadata": {},
         "outputs": [
            {
               "data": {
                  "text/plain": [
                     "Index(['player_name', 'team', 'conf', 'yr', 'ht', 'player_position',\n",
                     "       'drafted_by', 'drafted_flag'],\n",
                     "      dtype='object')"
                  ]
               },
               "execution_count": 15,
               "metadata": {},
               "output_type": "execute_result"
            }
         ],
         "source": [
            "df_nonint = df.select_dtypes(exclude=['int64','float'])\n",
            "df_nonint.columns"
         ]
      },
      {
         "cell_type": "code",
         "execution_count": 16,
         "metadata": {},
         "outputs": [
            {
               "data": {
                  "text/plain": [
                     "player_name        25719\n",
                     "team                 362\n",
                     "conf                  36\n",
                     "yr                     8\n",
                     "ht                    39\n",
                     "player_position        9\n",
                     "drafted_by            34\n",
                     "drafted_flag           2\n",
                     "dtype: int64"
                  ]
               },
               "execution_count": 16,
               "metadata": {},
               "output_type": "execute_result"
            }
         ],
         "source": [
            "df_nonint.nunique()"
         ]
      },
      {
         "attachments": {},
         "cell_type": "markdown",
         "metadata": {},
         "source": [
            "Check distinct values for object type 'yr' column."
         ]
      },
      {
         "cell_type": "code",
         "execution_count": 17,
         "metadata": {},
         "outputs": [
            {
               "name": "stdout",
               "output_type": "stream",
               "text": [
                  "Jr      16241\n",
                  "Fr      16233\n",
                  "So      14485\n",
                  "Sr      13801\n",
                  "None      294\n",
                  "0           5\n",
                  "57.1        1\n",
                  "42.9        1\n",
                  "Name: yr, dtype: int64\n"
               ]
            }
         ],
         "source": [
            "print(df.yr.value_counts())"
         ]
      },
      {
         "attachments": {},
         "cell_type": "markdown",
         "metadata": {},
         "source": [
            "Handle mistyped or wrong values."
         ]
      },
      {
         "cell_type": "code",
         "execution_count": 18,
         "metadata": {},
         "outputs": [],
         "source": [
            "df.yr.replace('0', 'None', inplace=True)\n",
            "df.yr.replace('57.1', 'None', inplace=True)\n",
            "df.yr.replace('42.9', 'None', inplace=True)"
         ]
      },
      {
         "attachments": {},
         "cell_type": "markdown",
         "metadata": {},
         "source": [
            "One hot encode categorical column: yr"
         ]
      },
      {
         "cell_type": "code",
         "execution_count": 19,
         "metadata": {},
         "outputs": [],
         "source": [
            "df = pd.get_dummies(df, columns=['yr'])"
         ]
      },
      {
         "attachments": {},
         "cell_type": "markdown",
         "metadata": {},
         "source": [
            "Reorder columns to have drafted_flag as the last column of the dataframe."
         ]
      },
      {
         "cell_type": "code",
         "execution_count": 20,
         "metadata": {},
         "outputs": [],
         "source": [
            "col_list = df.columns.tolist()\n",
            "col_list.pop(-6)  # 'drafted_flag'\n",
            "col_list.append('drafted_flag')\n",
            "df = df[col_list]"
         ]
      },
      {
         "attachments": {},
         "cell_type": "markdown",
         "metadata": {},
         "source": [
            "Check non-numeric columns."
         ]
      },
      {
         "cell_type": "code",
         "execution_count": 21,
         "metadata": {},
         "outputs": [
            {
               "name": "stdout",
               "output_type": "stream",
               "text": [
                  "float64    47\n",
                  "int64       8\n",
                  "object      6\n",
                  "uint8       5\n",
                  "int32       1\n",
                  "dtype: int64\n",
                  "Index(['player_name', 'team', 'conf', 'ht', 'player_position', 'drafted_by'], dtype='object')\n"
               ]
            }
         ],
         "source": [
            "print(df.dtypes.value_counts())\n",
            "print(df.select_dtypes('object').columns)"
         ]
      },
      {
         "attachments": {},
         "cell_type": "markdown",
         "metadata": {},
         "source": [
            "Leave only numeric data and fill all remaining columns with zeros."
         ]
      },
      {
         "cell_type": "code",
         "execution_count": 22,
         "metadata": {},
         "outputs": [],
         "source": [
            "df = df.select_dtypes(exclude='object')\n",
            "df.fillna(value=0, inplace=True)"
         ]
      },
      {
         "attachments": {},
         "cell_type": "markdown",
         "metadata": {},
         "source": [
            "Check data for the drafted_flag column."
         ]
      },
      {
         "cell_type": "code",
         "execution_count": 23,
         "metadata": {},
         "outputs": [
            {
               "name": "stdout",
               "output_type": "stream",
               "text": [
                  "year  drafted_flag\n",
                  "2009  0               4542\n",
                  "      1                 47\n",
                  "2010  0               4645\n",
                  "      1                 53\n",
                  "2011  0               4502\n",
                  "      1                 46\n",
                  "2012  0               4535\n",
                  "      1                 51\n",
                  "2013  0               4566\n",
                  "      1                 42\n",
                  "2014  0               4679\n",
                  "      1                 43\n",
                  "2015  0               4681\n",
                  "      1                 43\n",
                  "2016  0               4656\n",
                  "      1                 41\n",
                  "2017  0               4695\n",
                  "      1                 48\n",
                  "2018  0               4661\n",
                  "      1                 42\n",
                  "2019  0               4692\n",
                  "      1                 48\n",
                  "2020  0               4685\n",
                  "      1                 48\n",
                  "2021  0               4920\n",
                  "      1                 50\n",
                  "Name: drafted_flag, dtype: int64\n"
               ]
            }
         ],
         "source": [
            "print(df.groupby(['year','drafted_flag'])['drafted_flag'].count())"
         ]
      },
      {
         "attachments": {},
         "cell_type": "markdown",
         "metadata": {},
         "source": [
            "### 4. create visualizations and analyze statistics"
         ]
      },
      {
         "attachments": {},
         "cell_type": "markdown",
         "metadata": {},
         "source": [
            "Calculate basic statistics."
         ]
      },
      {
         "cell_type": "code",
         "execution_count": 24,
         "metadata": {},
         "outputs": [
            {
               "data": {
                  "text/html": [
                     "<div>\n",
                     "<style scoped>\n",
                     "    .dataframe tbody tr th:only-of-type {\n",
                     "        vertical-align: middle;\n",
                     "    }\n",
                     "\n",
                     "    .dataframe tbody tr th {\n",
                     "        vertical-align: top;\n",
                     "    }\n",
                     "\n",
                     "    .dataframe thead th {\n",
                     "        text-align: right;\n",
                     "    }\n",
                     "</style>\n",
                     "<table border=\"1\" class=\"dataframe\">\n",
                     "  <thead>\n",
                     "    <tr style=\"text-align: right;\">\n",
                     "      <th></th>\n",
                     "      <th>GP</th>\n",
                     "      <th>Min_per</th>\n",
                     "      <th>Ortg</th>\n",
                     "      <th>usg</th>\n",
                     "      <th>eFG</th>\n",
                     "      <th>TS_per</th>\n",
                     "      <th>ORB_per</th>\n",
                     "      <th>DRB_per</th>\n",
                     "      <th>AST_per</th>\n",
                     "      <th>TO_per</th>\n",
                     "      <th>...</th>\n",
                     "      <th>ast</th>\n",
                     "      <th>stl</th>\n",
                     "      <th>blk</th>\n",
                     "      <th>pts</th>\n",
                     "      <th>yr_Fr</th>\n",
                     "      <th>yr_Jr</th>\n",
                     "      <th>yr_None</th>\n",
                     "      <th>yr_So</th>\n",
                     "      <th>yr_Sr</th>\n",
                     "      <th>drafted_flag</th>\n",
                     "    </tr>\n",
                     "  </thead>\n",
                     "  <tbody>\n",
                     "    <tr>\n",
                     "      <th>count</th>\n",
                     "      <td>61061.000000</td>\n",
                     "      <td>61061.00000</td>\n",
                     "      <td>61061.000000</td>\n",
                     "      <td>61061.000000</td>\n",
                     "      <td>61061.000000</td>\n",
                     "      <td>61061.000000</td>\n",
                     "      <td>61061.00000</td>\n",
                     "      <td>61061.000000</td>\n",
                     "      <td>61061.000000</td>\n",
                     "      <td>61061.000000</td>\n",
                     "      <td>...</td>\n",
                     "      <td>61061.000000</td>\n",
                     "      <td>61061.000000</td>\n",
                     "      <td>61061.000000</td>\n",
                     "      <td>61061.000000</td>\n",
                     "      <td>61061.000000</td>\n",
                     "      <td>61061.000000</td>\n",
                     "      <td>61061.000000</td>\n",
                     "      <td>61061.000000</td>\n",
                     "      <td>61061.000000</td>\n",
                     "      <td>61061.000000</td>\n",
                     "    </tr>\n",
                     "    <tr>\n",
                     "      <th>mean</th>\n",
                     "      <td>22.797760</td>\n",
                     "      <td>37.12839</td>\n",
                     "      <td>91.666396</td>\n",
                     "      <td>18.126341</td>\n",
                     "      <td>44.500768</td>\n",
                     "      <td>47.584212</td>\n",
                     "      <td>5.54225</td>\n",
                     "      <td>12.704242</td>\n",
                     "      <td>10.808699</td>\n",
                     "      <td>20.225856</td>\n",
                     "      <td>...</td>\n",
                     "      <td>1.072110</td>\n",
                     "      <td>0.529117</td>\n",
                     "      <td>0.280821</td>\n",
                     "      <td>5.769986</td>\n",
                     "      <td>0.265849</td>\n",
                     "      <td>0.265980</td>\n",
                     "      <td>0.004929</td>\n",
                     "      <td>0.237222</td>\n",
                     "      <td>0.226020</td>\n",
                     "      <td>0.009859</td>\n",
                     "    </tr>\n",
                     "    <tr>\n",
                     "      <th>std</th>\n",
                     "      <td>10.166805</td>\n",
                     "      <td>28.05805</td>\n",
                     "      <td>30.963736</td>\n",
                     "      <td>6.253742</td>\n",
                     "      <td>18.431761</td>\n",
                     "      <td>17.640613</td>\n",
                     "      <td>9.30561</td>\n",
                     "      <td>10.755123</td>\n",
                     "      <td>9.362704</td>\n",
                     "      <td>12.318765</td>\n",
                     "      <td>...</td>\n",
                     "      <td>1.169619</td>\n",
                     "      <td>0.469654</td>\n",
                     "      <td>0.414815</td>\n",
                     "      <td>4.948427</td>\n",
                     "      <td>0.441788</td>\n",
                     "      <td>0.441857</td>\n",
                     "      <td>0.070038</td>\n",
                     "      <td>0.425383</td>\n",
                     "      <td>0.418256</td>\n",
                     "      <td>0.098803</td>\n",
                     "    </tr>\n",
                     "    <tr>\n",
                     "      <th>min</th>\n",
                     "      <td>1.000000</td>\n",
                     "      <td>0.00000</td>\n",
                     "      <td>0.000000</td>\n",
                     "      <td>0.000000</td>\n",
                     "      <td>0.000000</td>\n",
                     "      <td>0.000000</td>\n",
                     "      <td>0.00000</td>\n",
                     "      <td>0.000000</td>\n",
                     "      <td>0.000000</td>\n",
                     "      <td>0.000000</td>\n",
                     "      <td>...</td>\n",
                     "      <td>0.000000</td>\n",
                     "      <td>0.000000</td>\n",
                     "      <td>0.000000</td>\n",
                     "      <td>0.000000</td>\n",
                     "      <td>0.000000</td>\n",
                     "      <td>0.000000</td>\n",
                     "      <td>0.000000</td>\n",
                     "      <td>0.000000</td>\n",
                     "      <td>0.000000</td>\n",
                     "      <td>0.000000</td>\n",
                     "    </tr>\n",
                     "    <tr>\n",
                     "      <th>25%</th>\n",
                     "      <td>15.000000</td>\n",
                     "      <td>9.30000</td>\n",
                     "      <td>83.900000</td>\n",
                     "      <td>14.500000</td>\n",
                     "      <td>40.000000</td>\n",
                     "      <td>43.800000</td>\n",
                     "      <td>1.80000</td>\n",
                     "      <td>8.400000</td>\n",
                     "      <td>4.600000</td>\n",
                     "      <td>14.700000</td>\n",
                     "      <td>...</td>\n",
                     "      <td>0.222200</td>\n",
                     "      <td>0.157900</td>\n",
                     "      <td>0.000000</td>\n",
                     "      <td>1.571400</td>\n",
                     "      <td>0.000000</td>\n",
                     "      <td>0.000000</td>\n",
                     "      <td>0.000000</td>\n",
                     "      <td>0.000000</td>\n",
                     "      <td>0.000000</td>\n",
                     "      <td>0.000000</td>\n",
                     "    </tr>\n",
                     "    <tr>\n",
                     "      <th>50%</th>\n",
                     "      <td>27.000000</td>\n",
                     "      <td>35.60000</td>\n",
                     "      <td>97.100000</td>\n",
                     "      <td>18.100000</td>\n",
                     "      <td>47.700000</td>\n",
                     "      <td>50.850000</td>\n",
                     "      <td>4.30000</td>\n",
                     "      <td>11.900000</td>\n",
                     "      <td>9.000000</td>\n",
                     "      <td>19.100000</td>\n",
                     "      <td>...</td>\n",
                     "      <td>0.677400</td>\n",
                     "      <td>0.424200</td>\n",
                     "      <td>0.133300</td>\n",
                     "      <td>4.482800</td>\n",
                     "      <td>0.000000</td>\n",
                     "      <td>0.000000</td>\n",
                     "      <td>0.000000</td>\n",
                     "      <td>0.000000</td>\n",
                     "      <td>0.000000</td>\n",
                     "      <td>0.000000</td>\n",
                     "    </tr>\n",
                     "    <tr>\n",
                     "      <th>75%</th>\n",
                     "      <td>31.000000</td>\n",
                     "      <td>62.00000</td>\n",
                     "      <td>106.900000</td>\n",
                     "      <td>21.800000</td>\n",
                     "      <td>53.300000</td>\n",
                     "      <td>56.110000</td>\n",
                     "      <td>8.10000</td>\n",
                     "      <td>16.100000</td>\n",
                     "      <td>15.000000</td>\n",
                     "      <td>24.400000</td>\n",
                     "      <td>...</td>\n",
                     "      <td>1.533300</td>\n",
                     "      <td>0.793100</td>\n",
                     "      <td>0.363600</td>\n",
                     "      <td>9.062500</td>\n",
                     "      <td>1.000000</td>\n",
                     "      <td>1.000000</td>\n",
                     "      <td>0.000000</td>\n",
                     "      <td>0.000000</td>\n",
                     "      <td>0.000000</td>\n",
                     "      <td>0.000000</td>\n",
                     "    </tr>\n",
                     "    <tr>\n",
                     "      <th>max</th>\n",
                     "      <td>41.000000</td>\n",
                     "      <td>98.00000</td>\n",
                     "      <td>834.000000</td>\n",
                     "      <td>50.000000</td>\n",
                     "      <td>150.000000</td>\n",
                     "      <td>150.000000</td>\n",
                     "      <td>1576.60000</td>\n",
                     "      <td>1385.000000</td>\n",
                     "      <td>100.000000</td>\n",
                     "      <td>100.000000</td>\n",
                     "      <td>...</td>\n",
                     "      <td>10.000000</td>\n",
                     "      <td>4.000000</td>\n",
                     "      <td>5.258100</td>\n",
                     "      <td>30.090900</td>\n",
                     "      <td>1.000000</td>\n",
                     "      <td>1.000000</td>\n",
                     "      <td>1.000000</td>\n",
                     "      <td>1.000000</td>\n",
                     "      <td>1.000000</td>\n",
                     "      <td>1.000000</td>\n",
                     "    </tr>\n",
                     "  </tbody>\n",
                     "</table>\n",
                     "<p>8 rows × 61 columns</p>\n",
                     "</div>"
                  ],
                  "text/plain": [
                     "                 GP      Min_per          Ortg           usg           eFG  \\\n",
                     "count  61061.000000  61061.00000  61061.000000  61061.000000  61061.000000   \n",
                     "mean      22.797760     37.12839     91.666396     18.126341     44.500768   \n",
                     "std       10.166805     28.05805     30.963736      6.253742     18.431761   \n",
                     "min        1.000000      0.00000      0.000000      0.000000      0.000000   \n",
                     "25%       15.000000      9.30000     83.900000     14.500000     40.000000   \n",
                     "50%       27.000000     35.60000     97.100000     18.100000     47.700000   \n",
                     "75%       31.000000     62.00000    106.900000     21.800000     53.300000   \n",
                     "max       41.000000     98.00000    834.000000     50.000000    150.000000   \n",
                     "\n",
                     "             TS_per      ORB_per       DRB_per       AST_per        TO_per  \\\n",
                     "count  61061.000000  61061.00000  61061.000000  61061.000000  61061.000000   \n",
                     "mean      47.584212      5.54225     12.704242     10.808699     20.225856   \n",
                     "std       17.640613      9.30561     10.755123      9.362704     12.318765   \n",
                     "min        0.000000      0.00000      0.000000      0.000000      0.000000   \n",
                     "25%       43.800000      1.80000      8.400000      4.600000     14.700000   \n",
                     "50%       50.850000      4.30000     11.900000      9.000000     19.100000   \n",
                     "75%       56.110000      8.10000     16.100000     15.000000     24.400000   \n",
                     "max      150.000000   1576.60000   1385.000000    100.000000    100.000000   \n",
                     "\n",
                     "       ...           ast           stl           blk           pts  \\\n",
                     "count  ...  61061.000000  61061.000000  61061.000000  61061.000000   \n",
                     "mean   ...      1.072110      0.529117      0.280821      5.769986   \n",
                     "std    ...      1.169619      0.469654      0.414815      4.948427   \n",
                     "min    ...      0.000000      0.000000      0.000000      0.000000   \n",
                     "25%    ...      0.222200      0.157900      0.000000      1.571400   \n",
                     "50%    ...      0.677400      0.424200      0.133300      4.482800   \n",
                     "75%    ...      1.533300      0.793100      0.363600      9.062500   \n",
                     "max    ...     10.000000      4.000000      5.258100     30.090900   \n",
                     "\n",
                     "              yr_Fr         yr_Jr       yr_None         yr_So         yr_Sr  \\\n",
                     "count  61061.000000  61061.000000  61061.000000  61061.000000  61061.000000   \n",
                     "mean       0.265849      0.265980      0.004929      0.237222      0.226020   \n",
                     "std        0.441788      0.441857      0.070038      0.425383      0.418256   \n",
                     "min        0.000000      0.000000      0.000000      0.000000      0.000000   \n",
                     "25%        0.000000      0.000000      0.000000      0.000000      0.000000   \n",
                     "50%        0.000000      0.000000      0.000000      0.000000      0.000000   \n",
                     "75%        1.000000      1.000000      0.000000      0.000000      0.000000   \n",
                     "max        1.000000      1.000000      1.000000      1.000000      1.000000   \n",
                     "\n",
                     "       drafted_flag  \n",
                     "count  61061.000000  \n",
                     "mean       0.009859  \n",
                     "std        0.098803  \n",
                     "min        0.000000  \n",
                     "25%        0.000000  \n",
                     "50%        0.000000  \n",
                     "75%        0.000000  \n",
                     "max        1.000000  \n",
                     "\n",
                     "[8 rows x 61 columns]"
                  ]
               },
               "execution_count": 24,
               "metadata": {},
               "output_type": "execute_result"
            }
         ],
         "source": [
            "df.describe()"
         ]
      },
      {
         "attachments": {},
         "cell_type": "markdown",
         "metadata": {},
         "source": [
            "Create correlation matrix."
         ]
      },
      {
         "cell_type": "code",
         "execution_count": 25,
         "metadata": {},
         "outputs": [
            {
               "name": "stdout",
               "output_type": "stream",
               "text": [
                  "         Variable1 Variable2  Correlation\n",
                  "0               GP   Min_per     0.766095\n",
                  "1               GP      Ortg     0.436458\n",
                  "2               GP       usg     0.194152\n",
                  "3               GP       eFG     0.410425\n",
                  "4               GP    TS_per     0.428273\n",
                  "...            ...       ...          ...\n",
                  "3655  drafted_flag     yr_Fr    -0.003767\n",
                  "3656  drafted_flag     yr_Jr    -0.014300\n",
                  "3657  drafted_flag   yr_None    -0.007023\n",
                  "3658  drafted_flag     yr_So    -0.001873\n",
                  "3659  drafted_flag     yr_Sr     0.022168\n",
                  "\n",
                  "[3660 rows x 3 columns]\n"
               ]
            }
         ],
         "source": [
            "corr_matrix = df.corr()\n",
            "corr_matrix = corr_matrix[abs(corr_matrix) < 1]\n",
            "corr_matrix = corr_matrix.stack().reset_index()\n",
            "corr_matrix.columns = ['Variable1','Variable2','Correlation']\n",
            "print(corr_matrix)"
         ]
      },
      {
         "attachments": {},
         "cell_type": "markdown",
         "metadata": {},
         "source": [
            "Calculate the empirical distribution of the target feature per year."
         ]
      },
      {
         "cell_type": "code",
         "execution_count": 26,
         "metadata": {},
         "outputs": [
            {
               "name": "stdout",
               "output_type": "stream",
               "text": [
                  "year\n",
                  "2009    0.010242\n",
                  "2010    0.011281\n",
                  "2011    0.010114\n",
                  "2012    0.011121\n",
                  "2013    0.009115\n",
                  "2014    0.009106\n",
                  "2015    0.009102\n",
                  "2016    0.008729\n",
                  "2017    0.010120\n",
                  "2018    0.008930\n",
                  "2019    0.010127\n",
                  "2020    0.010142\n",
                  "2021    0.010060\n",
                  "dtype: float64\n"
               ]
            }
         ],
         "source": [
            "drafted_per_year = df[df.drafted_flag == 1].groupby('year').count()['drafted_flag']\n",
            "count_per_year = df.groupby('year').count()['GP']\n",
            "yearly_drafts = drafted_per_year/count_per_year\n",
            "print(yearly_drafts)"
         ]
      },
      {
         "attachments": {},
         "cell_type": "markdown",
         "metadata": {},
         "source": [
            "Plot the heatmap of the correlations."
         ]
      },
      {
         "cell_type": "code",
         "execution_count": 27,
         "metadata": {},
         "outputs": [
            {
               "data": {
                  "text/plain": [
                     "<AxesSubplot: >"
                  ]
               },
               "execution_count": 27,
               "metadata": {},
               "output_type": "execute_result"
            },
            {
               "data": {
                  "image/png": "[encoded data removed]",
                  "text/plain": [
                     "<Figure size 500x500 with 2 Axes>"
                  ]
               },
               "metadata": {},
               "output_type": "display_data"
            }
         ],
         "source": [
            "# plot settings\n",
            "plt.rcParams['figure.figsize']=(5,5)\n",
            "\n",
            "# heatmap of the correlations\n",
            "sns.heatmap(df.corr(),annot=False)"
         ]
      },
      {
         "attachments": {},
         "cell_type": "markdown",
         "metadata": {},
         "source": [
            "Plot the histogram of the target feature."
         ]
      },
      {
         "cell_type": "code",
         "execution_count": 28,
         "metadata": {},
         "outputs": [
            {
               "data": {
                  "text/plain": [
                     "<AxesSubplot: xlabel='drafted_flag', ylabel='Count'>"
                  ]
               },
               "execution_count": 28,
               "metadata": {},
               "output_type": "execute_result"
            },
            {
               "data": {
                  "image/png": "[encoded data removed]",
                  "text/plain": [
                     "<Figure size 500x500 with 1 Axes>"
                  ]
               },
               "metadata": {},
               "output_type": "display_data"
            }
         ],
         "source": [
            "sns.histplot(data=df, x=\"drafted_flag\", hue=\"year\",palette=\"Set1\")"
         ]
      },
      {
         "attachments": {},
         "cell_type": "markdown",
         "metadata": {},
         "source": [
            "Check the ratio of the target feature labels."
         ]
      },
      {
         "cell_type": "code",
         "execution_count": 29,
         "metadata": {},
         "outputs": [
            {
               "data": {
                  "text/plain": [
                     "0    60459\n",
                     "1      602\n",
                     "Name: drafted_flag, dtype: int64"
                  ]
               },
               "execution_count": 29,
               "metadata": {},
               "output_type": "execute_result"
            }
         ],
         "source": [
            "df.drafted_flag.value_counts()"
         ]
      },
      {
         "attachments": {},
         "cell_type": "markdown",
         "metadata": {},
         "source": [
            "Check the correlations with the highest absolute value between the target feature and the predictors."
         ]
      },
      {
         "cell_type": "code",
         "execution_count": 30,
         "metadata": {},
         "outputs": [
            {
               "name": "stdout",
               "output_type": "stream",
               "text": [
                  "         Variable1                        Variable2  Correlation\n",
                  "3622  drafted_flag                           porpag     0.250765\n",
                  "3634  drafted_flag                        dunksmade     0.227100\n",
                  "3635  drafted_flag              dunksmiss+dunksmade     0.223806\n",
                  "3639  drafted_flag                          dporpag     0.221672\n",
                  "3613  drafted_flag                            twoPM     0.219013\n",
                  "3610  drafted_flag                              FTM     0.210367\n",
                  "3611  drafted_flag                              FTA     0.204868\n",
                  "3614  drafted_flag                            twoPA     0.204032\n",
                  "3626  drafted_flag                         Rec Rank     0.200200\n",
                  "3654  drafted_flag                              pts     0.191454\n",
                  "3630  drafted_flag                          midmade     0.188799\n",
                  "3640  drafted_flag                            stops     0.186134\n",
                  "3631  drafted_flag                  midmade+midmiss     0.185105\n",
                  "3628  drafted_flag                          rimmade     0.182256\n",
                  "3649  drafted_flag                             dreb     0.174965\n",
                  "3650  drafted_flag                             treb     0.167050\n",
                  "3629  drafted_flag                  rimmade+rimmiss     0.162059\n",
                  "3653  drafted_flag                              blk     0.147426\n",
                  "3645  drafted_flag                               mp     0.130809\n",
                  "3601  drafted_flag                          Min_per     0.128537\n",
                  "3652  drafted_flag                              stl     0.125231\n",
                  "3641  drafted_flag                              bpm     0.124448\n",
                  "3648  drafted_flag                             oreb     0.123636\n",
                  "3651  drafted_flag                              ast     0.122626\n",
                  "3616  drafted_flag                              TPM     0.117854\n",
                  "3642  drafted_flag                             obpm     0.117018\n",
                  "3644  drafted_flag                             gbpm     0.116852\n",
                  "3646  drafted_flag                            ogbpm     0.113177\n",
                  "3617  drafted_flag                              TPA     0.110590\n",
                  "3623  drafted_flag                            adjoe     0.110486\n",
                  "3603  drafted_flag                              usg     0.102272\n",
                  "3600  drafted_flag                               GP     0.095634\n",
                  "3636  drafted_flag  dunksmade/(dunksmade+dunksmiss)     0.087301\n",
                  "3647  drafted_flag                            dgbpm     0.082018\n",
                  "3643  drafted_flag                             dbpm     0.078747\n",
                  "3602  drafted_flag                             Ortg     0.067748\n",
                  "3612  drafted_flag                           FT_per     0.059650\n",
                  "3605  drafted_flag                           TS_per     0.058427\n",
                  "3608  drafted_flag                          AST_per     0.055601\n",
                  "3604  drafted_flag                              eFG     0.052925\n",
                  "3615  drafted_flag                         twoP_per     0.052398\n",
                  "3632  drafted_flag        rimmade/(rimmade+rimmiss)     0.051520\n",
                  "3618  drafted_flag                           TP_per     0.047023\n",
                  "3627  drafted_flag                          ast/tov     0.040305\n",
                  "3633  drafted_flag        midmade/(midmade+midmiss)     0.039829\n",
                  "3607  drafted_flag                          DRB_per     0.033600\n",
                  "3619  drafted_flag                          blk_per     0.024524\n",
                  "3659  drafted_flag                            yr_Sr     0.022168\n",
                  "3620  drafted_flag                          stl_per     0.018100\n",
                  "3606  drafted_flag                          ORB_per     0.012709\n",
                  "3621  drafted_flag                              ftr     0.012543\n",
                  "3658  drafted_flag                            yr_So    -0.001873\n",
                  "3625  drafted_flag                             year    -0.002374\n",
                  "3655  drafted_flag                            yr_Fr    -0.003767\n",
                  "3657  drafted_flag                          yr_None    -0.007023\n",
                  "3656  drafted_flag                            yr_Jr    -0.014300\n",
                  "3624  drafted_flag                              pfr    -0.026881\n",
                  "3609  drafted_flag                           TO_per    -0.030046\n",
                  "3637  drafted_flag                             drtg    -0.069688\n",
                  "3638  drafted_flag                            adrtg    -0.102898\n"
               ]
            }
         ],
         "source": [
            "drafted_corr_matrix = corr_matrix[corr_matrix.Variable1 == 'drafted_flag'].sort_values(by='Correlation',ascending=False)\n",
            "print(drafted_corr_matrix.sort_values(by='Correlation',ascending=False))"
         ]
      },
      {
         "attachments": {},
         "cell_type": "markdown",
         "metadata": {},
         "source": [
            "### 5. Random model creation"
         ]
      },
      {
         "attachments": {},
         "cell_type": "markdown",
         "metadata": {},
         "source": [
            "Use the empirical distribution of the drafted flag feature to create a random model predicting the drafted players (Bernoulli distribution)."
         ]
      },
      {
         "cell_type": "code",
         "execution_count": 31,
         "metadata": {},
         "outputs": [
            {
               "name": "stdout",
               "output_type": "stream",
               "text": [
                  "pred_drafted_flag\n",
                  "0                    60509\n",
                  "1                      552\n",
                  "dtype: int64\n"
               ]
            }
         ],
         "source": [
            "from scipy.stats import bernoulli\n",
            "\n",
            "# probability of drafted flag = 1\n",
            "prob_drafted = np.average(yearly_drafts)\n",
            "\n",
            "# random model with the given Bernoulli distribution with the length of\n",
            "rand_model = pd.DataFrame(data=[bernoulli(prob_drafted).rvs(len(df))])\n",
            "rand_model = rand_model.transpose()\n",
            "rand_model.columns = ['pred_drafted_flag']\n",
            "\n",
            "print(rand_model.value_counts())"
         ]
      },
      {
         "attachments": {},
         "cell_type": "markdown",
         "metadata": {},
         "source": [
            "### 6. Random model evaluation"
         ]
      },
      {
         "cell_type": "code",
         "execution_count": 32,
         "metadata": {},
         "outputs": [
            {
               "name": "stdout",
               "output_type": "stream",
               "text": [
                  "[[59912   547]\n",
                  " [  597     5]]\n",
                  "              precision    recall  f1-score   support\n",
                  "\n",
                  "           0       0.99      0.99      0.99     60459\n",
                  "           1       0.01      0.01      0.01       602\n",
                  "\n",
                  "    accuracy                           0.98     61061\n",
                  "   macro avg       0.50      0.50      0.50     61061\n",
                  "weighted avg       0.98      0.98      0.98     61061\n",
                  "\n"
               ]
            }
         ],
         "source": [
            "# evaluate the random model\n",
            "from sklearn.metrics import confusion_matrix, classification_report\n",
            "\n",
            "cm = confusion_matrix(y_pred=rand_model.pred_drafted_flag, y_true=df.drafted_flag)\n",
            "cp = classification_report(y_pred=rand_model.pred_drafted_flag, y_true=df.drafted_flag)\n",
            "print(cm, cp, sep='\\n')"
         ]
      }
   ],
   "metadata": {
      "kernelspec": {
         "display_name": ".venv",
         "language": "python",
         "name": "python3"
      },
      "language_info": {
         "codemirror_mode": {
            "name": "ipython",
            "version": 3
         },
         "file_extension": ".py",
         "mimetype": "text/x-python",
         "name": "python",
         "nbconvert_exporter": "python",
         "pygments_lexer": "ipython3",
         "version": "3.11.1"
      },
      "orig_nbformat": 4,
      "vscode": {
         "interpreter": {
            "hash": "bac7d29c965e45fe5a19c676ea45bb965084d69bd807afb6434490090b4c39e2"
         }
      }
   },
   "nbformat": 4,
   "nbformat_minor": 2
}
