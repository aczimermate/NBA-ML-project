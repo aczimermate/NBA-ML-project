{
 "cells": [
  {
   "attachments": {},
   "cell_type": "markdown",
   "metadata": {},
   "source": [
    "# Exploratory Data Analysis: preprocessing, data cleansing, statistical analysis and visualizations"
   ]
  },
  {
   "attachments": {},
   "cell_type": "markdown",
   "metadata": {},
   "source": [
    "### 1. import the necessary libraries for the analysis"
   ]
  },
  {
   "cell_type": "code",
   "execution_count": 28,
   "metadata": {},
   "outputs": [],
   "source": [
    "# public libraries\n",
    "import pandas as pd\n",
    "import matplotlib.pyplot as plt\n",
    "import numpy as np\n",
    "import seaborn as sns\n",
    "\n",
    "# own libraries\n",
    "from evaluation_framework import LogRegModel"
   ]
  },
  {
   "attachments": {},
   "cell_type": "markdown",
   "metadata": {},
   "source": [
    "### 2. load data files and merge them into one DataFrame"
   ]
  },
  {
   "cell_type": "code",
   "execution_count": 29,
   "metadata": {},
   "outputs": [
    {
     "name": "stdout",
     "output_type": "stream",
     "text": [
      "True\n"
     ]
    }
   ],
   "source": [
    "# read college player statistics from 2009 to 2022\n",
    "# the data can be found in two different csv files, one contains stats from 2009 to 2021\n",
    "# while the other one contains the latest statistics (2022)\n",
    "college1 = pd.read_csv('Data\\CollegeBasketballPlayers2009-2021.csv',low_memory=False)\n",
    "college2 = pd.read_csv('Data\\CollegeBasketballPlayers2022.csv',low_memory=False)\n",
    "\n",
    "# the other data source contains draft picks at the nba draft for each year from 2009 to 2021\n",
    "draft = pd.read_excel('Data\\DraftedPlayers2009-2021.xlsx')\n",
    "\n",
    "# first of all, lets concatenate the college statistical dataframes\n",
    "college = pd.concat([college1,college2])\n",
    "print(college1.size+college2.size == college.size)\n",
    "\n",
    "# since the draft data set has merged cells in the table header the first row must be dropped\n",
    "draft.drop(0,axis=0,inplace=True)\n",
    "\n",
    "# rename the ROUND.1 column to PICK, and modify the PLAYER to player_name \n",
    "# so it can be act as a key during the join with the college data set\n",
    "draft.rename(\n",
    "    columns={\n",
    "        \"PLAYER\": \"player_name\", \n",
    "        \"TEAM\": \"drafted_by\", \n",
    "        \"YEAR\" : \"year\", \n",
    "        \"ROUND\" : \"draft_round\", \n",
    "        \"ROUND.1\" : \"draft_pick\"},\n",
    "        inplace=True)\n",
    "\n",
    "# also lower all column names\n",
    "draft.columns = draft.columns.str.lower()\n",
    "\n",
    "# join (merge) the college set with the draft data to identify those players who have been drafted after playing in college\n",
    "df = pd.merge(college,draft,how='left',on=['player_name','year'])"
   ]
  },
  {
   "attachments": {},
   "cell_type": "markdown",
   "metadata": {},
   "source": [
    "### 3. clean the data set and prepare it for statistical analyzis and further analytical steps"
   ]
  },
  {
   "cell_type": "code",
   "execution_count": 30,
   "metadata": {},
   "outputs": [
    {
     "name": "stdout",
     "output_type": "stream",
     "text": [
      "year  drafted_flag\n",
      "2009  0               4542\n",
      "      1                 47\n",
      "2010  0               4645\n",
      "      1                 53\n",
      "2011  0               4502\n",
      "      1                 46\n",
      "2012  0               4535\n",
      "      1                 51\n",
      "2013  0               4566\n",
      "      1                 42\n",
      "2014  0               4679\n",
      "      1                 43\n",
      "2015  0               4681\n",
      "      1                 43\n",
      "2016  0               4656\n",
      "      1                 41\n",
      "2017  0               4695\n",
      "      1                 48\n",
      "2018  0               4661\n",
      "      1                 42\n",
      "2019  0               4692\n",
      "      1                 48\n",
      "2020  0               4685\n",
      "      1                 48\n",
      "2021  0               4920\n",
      "      1                 50\n",
      "Name: drafted_flag, dtype: int64\n"
     ]
    }
   ],
   "source": [
    "# create a new column to identify the drafted players\n",
    "df['drafted_flag'] = (~df.overall.isnull())*1\n",
    "\n",
    "# since the draft data does not contain information about 2022\n",
    "# rows for 2022 are removed from the 'df' data set and saved into a new dataframe\n",
    "df_2022 = df[df.year == 2022]\n",
    "df = df[df.year < 2022]\n",
    "\n",
    "\n",
    "# rename unnamed column 64 for clearity and drop unknown or dupplicated columns\n",
    "df.rename({'Unnamed: 64':'player_position'},inplace=True)\n",
    "df = df.drop('Unnamed: 65',axis=1)\n",
    "df = df.drop('pick',axis=1)\n",
    "\n",
    "# handle missing values\n",
    "df.drafted_flag.fillna(value=0,inplace=True)\n",
    "\n",
    "# check non integer columns and encode the categorical values \n",
    "# df.select_dtypes(include=['int64','float']).head()\n",
    "\n",
    "# separate predictors from the target feature\n",
    "X = df.loc[:-1]\n",
    "y = df.drafted_flag\n",
    "\n",
    "# check data for the drafted_flag column\n",
    "print(df.groupby(['year','drafted_flag'])['drafted_flag'].count())"
   ]
  },
  {
   "attachments": {},
   "cell_type": "markdown",
   "metadata": {},
   "source": [
    "### 4. create visualizations and analyze statistics"
   ]
  },
  {
   "cell_type": "code",
   "execution_count": 31,
   "metadata": {},
   "outputs": [
    {
     "name": "stdout",
     "output_type": "stream",
     "text": [
      "year\n",
      "2009    0.010242\n",
      "2010    0.011281\n",
      "2011    0.010114\n",
      "2012    0.011121\n",
      "2013    0.009115\n",
      "2014    0.009106\n",
      "2015    0.009102\n",
      "2016    0.008729\n",
      "2017    0.010120\n",
      "2018    0.008930\n",
      "2019    0.010127\n",
      "2020    0.010142\n",
      "2021    0.010060\n",
      "dtype: float64\n"
     ]
    },
    {
     "data": {
      "text/plain": [
       "<AxesSubplot: xlabel='drafted_flag', ylabel='Count'>"
      ]
     },
     "execution_count": 31,
     "metadata": {},
     "output_type": "execute_result"
    },
    {
     "data": {
      "image/png": "[encoded data removed]",
      "text/plain": [
       "<Figure size 360x360 with 2 Axes>"
      ]
     },
     "metadata": {
      "needs_background": "light"
     },
     "output_type": "display_data"
    }
   ],
   "source": [
    "# basic statistics\n",
    "# print(df.describe())\n",
    "# print(df.pick.value_counts())\n",
    "\n",
    "# correlation matrix\n",
    "corr_matrix = df.corr()\n",
    "corr_matrix = corr_matrix[abs(corr_matrix) < 1]\n",
    "corr_matrix = corr_matrix.stack().reset_index()\n",
    "corr_matrix.columns = ['Variable1','Variable2','Correlation']\n",
    "# print(corr_matrix)\n",
    "\n",
    "# empirical distribution of the target feature\n",
    "drafted_per_year = df[df.drafted_flag == 1].groupby('year').count()['drafted_flag']\n",
    "count_per_year = df.groupby('year').count()['player_name']\n",
    "yearly_drafts = drafted_per_year/count_per_year\n",
    "print(yearly_drafts)\n",
    "\n",
    "# plot settings\n",
    "plt.rcParams['figure.figsize']=(5,5)\n",
    "\n",
    "# heatmap of the correlations\n",
    "sns.heatmap(df.corr(),annot=False)\n",
    "\n",
    "# histogram of the target feature\n",
    "sns.histplot(data=df, x=\"drafted_flag\", hue=\"year\",palette=\"Set1\")\n",
    "\n",
    "# sns.pairplot(df, x_vars='draft_pick',y_vars=df.select_dtypes(include=['int64','float']).iloc[:,:-1],diag_kind = 'kde')"
   ]
  },
  {
   "cell_type": "code",
   "execution_count": 32,
   "metadata": {},
   "outputs": [
    {
     "data": {
      "text/plain": [
       "0    60459\n",
       "1      602\n",
       "Name: drafted_flag, dtype: int64"
      ]
     },
     "execution_count": 32,
     "metadata": {},
     "output_type": "execute_result"
    }
   ],
   "source": [
    "df.drafted_flag.value_counts()"
   ]
  },
  {
   "cell_type": "code",
   "execution_count": 33,
   "metadata": {},
   "outputs": [
    {
     "name": "stdout",
     "output_type": "stream",
     "text": [
      "         Variable1            Variable2  Correlation\n",
      "3158  drafted_flag               porpag     0.250765\n",
      "3171  drafted_flag            dunksmade     0.238017\n",
      "3172  drafted_flag  dunksmiss+dunksmade     0.234652\n",
      "3176  drafted_flag              dporpag     0.221722\n",
      "3149  drafted_flag                twoPM     0.219013\n"
     ]
    }
   ],
   "source": [
    "# corr_matrix = corr_matrix[abs(corr_matrix) < 1]\n",
    "# corr_matrix = corr_matrix.rename_axis(None).rename_axis(None, axis=1)\n",
    "print(corr_matrix[corr_matrix.Variable1 == 'drafted_flag'].sort_values(by='Correlation',ascending=False).head())"
   ]
  },
  {
   "attachments": {},
   "cell_type": "markdown",
   "metadata": {},
   "source": [
    "### 5. Random model creation"
   ]
  },
  {
   "cell_type": "code",
   "execution_count": 67,
   "metadata": {},
   "outputs": [
    {
     "name": "stdout",
     "output_type": "stream",
     "text": [
      "pred_drafted_flag\n",
      "0                    60432\n",
      "1                      629\n",
      "dtype: int64\n"
     ]
    }
   ],
   "source": [
    "# use the empirical distribution of the drafted flag feature to create a random model predicting the drafted players (Bernoulli distribution)\n",
    "from scipy.stats import bernoulli\n",
    "\n",
    "# probability of drafted flag = 1\n",
    "prob_drafted = np.average(yearly_drafts)\n",
    "\n",
    "# random model with the given Bernoulli distribution with the length of\n",
    "rand_model = pd.DataFrame(data=[bernoulli(prob_drafted).rvs(len(df))])\n",
    "rand_model = rand_model.transpose()\n",
    "rand_model.columns = ['pred_drafted_flag']\n",
    "\n",
    "print(rand_model.value_counts())"
   ]
  },
  {
   "attachments": {},
   "cell_type": "markdown",
   "metadata": {},
   "source": [
    "### 6. Random model evaluation"
   ]
  },
  {
   "cell_type": "code",
   "execution_count": 71,
   "metadata": {},
   "outputs": [
    {
     "name": "stdout",
     "output_type": "stream",
     "text": [
      "              precision    recall  f1-score   support\n",
      "\n",
      "           0       0.99      0.99      0.99     60459\n",
      "           1       0.01      0.01      0.01       602\n",
      "\n",
      "    accuracy                           0.98     61061\n",
      "   macro avg       0.50      0.50      0.50     61061\n",
      "weighted avg       0.98      0.98      0.98     61061\n",
      "\n"
     ]
    }
   ],
   "source": [
    "# evaluate the random model\n",
    "from sklearn.metrics import confusion_matrix, classification_report\n",
    "\n",
    "cm = confusion_matrix(y_pred=rand_model.pred_drafted_flag, y_true=y)\n",
    "cp = classification_report(y_pred=rand_model.pred_drafted_flag, y_true=y)\n",
    "print(cp)"
   ]
  }
 ],
 "metadata": {
  "kernelspec": {
   "display_name": "Python 3.9.2 64-bit",
   "language": "python",
   "name": "python3"
  },
  "language_info": {
   "codemirror_mode": {
    "name": "ipython",
    "version": 3
   },
   "file_extension": ".py",
   "mimetype": "text/x-python",
   "name": "python",
   "nbconvert_exporter": "python",
   "pygments_lexer": "ipython3",
   "version": "3.9.2"
  },
  "orig_nbformat": 4,
  "vscode": {
   "interpreter": {
    "hash": "8d05b8ab0214b9827fe7f26b07a80025fe58040c47047a4b3755ba3bb832e234"
   }
  }
 },
 "nbformat": 4,
 "nbformat_minor": 2
}
