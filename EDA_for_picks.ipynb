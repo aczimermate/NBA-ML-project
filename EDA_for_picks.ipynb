{
   "cells": [
      {
         "attachments": {},
         "cell_type": "markdown",
         "metadata": {},
         "source": [
            "# Exploratory Data Analysis: preprocessing, data cleansing, statistical analysis and visualizations"
         ]
      },
      {
         "attachments": {},
         "cell_type": "markdown",
         "metadata": {},
         "source": [
            "### 1. import the necessary libraries for the analysis"
         ]
      },
      {
         "cell_type": "code",
         "execution_count": 132,
         "metadata": {},
         "outputs": [],
         "source": [
            "import pandas as pd\n",
            "import matplotlib.pyplot as plt\n",
            "import numpy as np\n",
            "import seaborn as sns"
         ]
      },
      {
         "attachments": {},
         "cell_type": "markdown",
         "metadata": {},
         "source": [
            "### 2. load data files and merge them into one DataFrame"
         ]
      },
      {
         "attachments": {},
         "cell_type": "markdown",
         "metadata": {},
         "source": [
            "Read college player statistics from 2009 to 2022. The data can be found in two different csv files, one contains stats from 2009 to 2021, while the other one contains the latest statistics (2022)."
         ]
      },
      {
         "cell_type": "code",
         "execution_count": 133,
         "metadata": {},
         "outputs": [],
         "source": [
            "college1 = pd.read_csv('Data\\CollegeBasketballPlayers2009-2021.csv',low_memory=False)\n",
            "college2 = pd.read_csv('Data\\CollegeBasketballPlayers2022.csv',low_memory=False)"
         ]
      },
      {
         "attachments": {},
         "cell_type": "markdown",
         "metadata": {},
         "source": [
            "The other data source contains draft picks at the nba draft for each year from 2009 to 2021."
         ]
      },
      {
         "cell_type": "code",
         "execution_count": 134,
         "metadata": {},
         "outputs": [],
         "source": [
            "draft = pd.read_excel('Data\\DraftedPlayers2009-2021.xlsx')"
         ]
      },
      {
         "attachments": {},
         "cell_type": "markdown",
         "metadata": {},
         "source": [
            "First of all, lets concatenate the college statistical dataframes."
         ]
      },
      {
         "cell_type": "code",
         "execution_count": 135,
         "metadata": {},
         "outputs": [
            {
               "name": "stdout",
               "output_type": "stream",
               "text": [
                  "True\n"
               ]
            }
         ],
         "source": [
            "college = pd.concat([college1,college2])\n",
            "print(college1.size+college2.size == college.size)"
         ]
      },
      {
         "attachments": {},
         "cell_type": "markdown",
         "metadata": {},
         "source": [
            "Since the draft data set has merged cells in the table header the first row must be dropped."
         ]
      },
      {
         "cell_type": "code",
         "execution_count": 136,
         "metadata": {},
         "outputs": [],
         "source": [
            "draft.drop(0,axis=0,inplace=True)"
         ]
      },
      {
         "attachments": {},
         "cell_type": "markdown",
         "metadata": {},
         "source": [
            "Rename the ROUND.1 column to PICK, and modify the PLAYER to player_name, so it can be act as a key during the join with the college data set."
         ]
      },
      {
         "cell_type": "code",
         "execution_count": 137,
         "metadata": {},
         "outputs": [],
         "source": [
            "draft.rename(\n",
            "    columns={\n",
            "        \"PLAYER\": \"player_name\", \n",
            "        \"TEAM\": \"drafted_by\", \n",
            "        \"YEAR\" : \"year\", \n",
            "        \"ROUND\" : \"draft_round\", \n",
            "        \"ROUND.1\" : \"pick_no\",\n",
            "        \"OVERALL\" : \"draft_pick\"},\n",
            "        inplace=True)"
         ]
      },
      {
         "attachments": {},
         "cell_type": "markdown",
         "metadata": {},
         "source": [
            "Convert all column names to lowcase letters."
         ]
      },
      {
         "cell_type": "code",
         "execution_count": 138,
         "metadata": {},
         "outputs": [],
         "source": [
            "draft.columns = draft.columns.str.lower()"
         ]
      },
      {
         "attachments": {},
         "cell_type": "markdown",
         "metadata": {},
         "source": [
            "Merge the college set with the draft data to identify those players who have been drafted after playing in college."
         ]
      },
      {
         "cell_type": "code",
         "execution_count": 139,
         "metadata": {},
         "outputs": [],
         "source": [
            "df = pd.merge(college,draft,how='outer',on=['player_name','year'])"
         ]
      },
      {
         "attachments": {},
         "cell_type": "markdown",
         "metadata": {},
         "source": [
            "### 3. clean the data set and prepare it for statistical analyzis and further analytical steps"
         ]
      },
      {
         "attachments": {},
         "cell_type": "markdown",
         "metadata": {},
         "source": [
            "Create a new column to identify the drafted players."
         ]
      },
      {
         "cell_type": "code",
         "execution_count": 140,
         "metadata": {},
         "outputs": [],
         "source": [
            "df['drafted_flag'] = (~df.draft_pick.isnull())*1"
         ]
      },
      {
         "attachments": {},
         "cell_type": "markdown",
         "metadata": {},
         "source": [
            "Since the draft data does not contain information about 2022, rows for 2022 should removed from the 'df' data set and saved into a new dataframe."
         ]
      },
      {
         "cell_type": "code",
         "execution_count": 141,
         "metadata": {},
         "outputs": [],
         "source": [
            "df_2022 = df[df.year == 2022]\n",
            "df = df[df.year < 2022]"
         ]
      },
      {
         "attachments": {},
         "cell_type": "markdown",
         "metadata": {},
         "source": [
            "Rename unnamed column 64 for clearity."
         ]
      },
      {
         "cell_type": "code",
         "execution_count": 142,
         "metadata": {},
         "outputs": [],
         "source": [
            "df.rename(columns={'Unnamed: 64':'player_position'},inplace=True)"
         ]
      },
      {
         "attachments": {},
         "cell_type": "markdown",
         "metadata": {},
         "source": [
            "Drop unknown, irrelevant (not statistical, such as 'num': jersey number column) or dupplicate columns."
         ]
      },
      {
         "cell_type": "code",
         "execution_count": 143,
         "metadata": {},
         "outputs": [
            {
               "name": "stdout",
               "output_type": "stream",
               "text": [
                  "affiliation     60461\n",
                  "draft_round     60459\n",
                  "draft_pick      60459\n",
                  "drafted_by      60459\n",
                  "pick_no         60459\n",
                  "                ...  \n",
                  "twoPA             193\n",
                  "eFG               193\n",
                  "player_name         0\n",
                  "year                0\n",
                  "drafted_flag        0\n",
                  "Length: 72, dtype: int64\n"
               ]
            }
         ],
         "source": [
            "print(df.isnull().sum().sort_values(ascending=False))"
         ]
      },
      {
         "cell_type": "code",
         "execution_count": 144,
         "metadata": {},
         "outputs": [],
         "source": [
            "# unknown with nan values\n",
            "df = df.drop('Unnamed: 65', axis=1)\n",
            "# irrelevant, not statistical data (jersey number)\n",
            "df = df.drop('num', axis=1)\n",
            "# irrelevant, not statistical data (player id in the database)\n",
            "df = df.drop('pid', axis=1)\n",
            "# irrelevant, not statistical data (unique value for all rows)\n",
            "df = df.drop('type', axis=1)\n",
            "# irrelevant, the information is included in the draft_pick column\n",
            "df = df.drop('pick_no', axis=1)\n",
            "# irrelevant, the information is included in the draft_pick column\n",
            "df = df.drop('pick', axis=1)"
         ]
      },
      {
         "attachments": {},
         "cell_type": "markdown",
         "metadata": {},
         "source": [
            "Handle missing values."
         ]
      },
      {
         "cell_type": "code",
         "execution_count": 145,
         "metadata": {},
         "outputs": [],
         "source": [
            "df.drafted_flag.fillna(value=0, inplace=True)\n",
            "df.yr.fillna(value='None', inplace=True)\n",
            "df.player_position.fillna(value='None', inplace=True)"
         ]
      },
      {
         "attachments": {},
         "cell_type": "markdown",
         "metadata": {},
         "source": [
            "Check non integer columns and find the categorical values."
         ]
      },
      {
         "cell_type": "code",
         "execution_count": 146,
         "metadata": {},
         "outputs": [
            {
               "data": {
                  "text/plain": [
                     "Index(['player_name', 'team', 'conf', 'yr', 'ht', 'player_position',\n",
                     "       'drafted_by', 'affiliation', 'draft_round', 'draft_pick',\n",
                     "       'drafted_flag'],\n",
                     "      dtype='object')"
                  ]
               },
               "execution_count": 146,
               "metadata": {},
               "output_type": "execute_result"
            }
         ],
         "source": [
            "df_nonint = df.select_dtypes(exclude=['int64','float'])\n",
            "df_nonint.columns"
         ]
      },
      {
         "cell_type": "code",
         "execution_count": 147,
         "metadata": {},
         "outputs": [
            {
               "data": {
                  "text/plain": [
                     "player_name        25902\n",
                     "team                 362\n",
                     "conf                  36\n",
                     "yr                     8\n",
                     "ht                    39\n",
                     "player_position        9\n",
                     "drafted_by            34\n",
                     "affiliation          231\n",
                     "draft_round            2\n",
                     "draft_pick            60\n",
                     "drafted_flag           2\n",
                     "dtype: int64"
                  ]
               },
               "execution_count": 147,
               "metadata": {},
               "output_type": "execute_result"
            }
         ],
         "source": [
            "df_nonint.nunique()"
         ]
      },
      {
         "attachments": {},
         "cell_type": "markdown",
         "metadata": {},
         "source": [
            "Check distinct values for object type 'yr' column."
         ]
      },
      {
         "cell_type": "code",
         "execution_count": 148,
         "metadata": {},
         "outputs": [
            {
               "name": "stdout",
               "output_type": "stream",
               "text": [
                  "Jr      16241\n",
                  "Fr      16233\n",
                  "So      14485\n",
                  "Sr      13801\n",
                  "None      487\n",
                  "0           5\n",
                  "57.1        1\n",
                  "42.9        1\n",
                  "Name: yr, dtype: int64\n"
               ]
            }
         ],
         "source": [
            "print(df.yr.value_counts())"
         ]
      },
      {
         "attachments": {},
         "cell_type": "markdown",
         "metadata": {},
         "source": [
            "Handle mistyped or wrong values."
         ]
      },
      {
         "cell_type": "code",
         "execution_count": 149,
         "metadata": {},
         "outputs": [],
         "source": [
            "df.yr.replace('0', 'None', inplace=True)\n",
            "df.yr.replace('57.1', 'None', inplace=True)\n",
            "df.yr.replace('42.9', 'None', inplace=True)"
         ]
      },
      {
         "attachments": {},
         "cell_type": "markdown",
         "metadata": {},
         "source": [
            "One hot encode categorical column: yr"
         ]
      },
      {
         "cell_type": "code",
         "execution_count": 150,
         "metadata": {},
         "outputs": [],
         "source": [
            "df = pd.get_dummies(df, columns=['yr'])"
         ]
      },
      {
         "attachments": {},
         "cell_type": "markdown",
         "metadata": {},
         "source": [
            "Reorder columns to have drafted_flag as the last column of the dataframe."
         ]
      },
      {
         "cell_type": "code",
         "execution_count": 152,
         "metadata": {},
         "outputs": [
            {
               "name": "stdout",
               "output_type": "stream",
               "text": [
                  "['player_name', 'team', 'conf', 'GP', 'Min_per', 'Ortg', 'usg', 'eFG', 'TS_per', 'ORB_per', 'DRB_per', 'AST_per', 'TO_per', 'FTM', 'FTA', 'FT_per', 'twoPM', 'twoPA', 'twoP_per', 'TPM', 'TPA', 'TP_per', 'blk_per', 'stl_per', 'ftr', 'ht', 'porpag', 'adjoe', 'pfr', 'year', 'Rec Rank', 'ast/tov', 'rimmade', 'rimmade+rimmiss', 'midmade', 'midmade+midmiss', 'rimmade/(rimmade+rimmiss)', 'midmade/(midmade+midmiss)', 'dunksmade', 'dunksmiss+dunksmade', 'dunksmade/(dunksmade+dunksmiss)', 'drtg', 'adrtg', 'dporpag', 'stops', 'bpm', 'obpm', 'dbpm', 'gbpm', 'mp', 'ogbpm', 'dgbpm', 'oreb', 'dreb', 'treb', 'ast', 'stl', 'blk', 'pts', 'player_position', 'drafted_by', 'affiliation', 'draft_round', 'draft_pick', 'drafted_flag', 'yr_Fr', 'yr_Jr', 'yr_None', 'yr_So', 'yr_Sr']\n",
                  "['player_name', 'team', 'conf', 'GP', 'Min_per', 'Ortg', 'usg', 'eFG', 'TS_per', 'ORB_per', 'DRB_per', 'AST_per', 'TO_per', 'FTM', 'FTA', 'FT_per', 'twoPM', 'twoPA', 'twoP_per', 'TPM', 'TPA', 'TP_per', 'blk_per', 'stl_per', 'ftr', 'ht', 'porpag', 'adjoe', 'pfr', 'year', 'Rec Rank', 'ast/tov', 'rimmade', 'rimmade+rimmiss', 'midmade', 'midmade+midmiss', 'rimmade/(rimmade+rimmiss)', 'midmade/(midmade+midmiss)', 'dunksmade', 'dunksmiss+dunksmade', 'dunksmade/(dunksmade+dunksmiss)', 'drtg', 'adrtg', 'dporpag', 'stops', 'bpm', 'obpm', 'dbpm', 'gbpm', 'mp', 'ogbpm', 'dgbpm', 'oreb', 'dreb', 'treb', 'ast', 'stl', 'blk', 'pts', 'player_position', 'drafted_by', 'affiliation', 'draft_round', 'drafted_flag', 'yr_Fr', 'yr_Jr', 'yr_None', 'yr_So', 'yr_Sr', 'draft_pick']\n"
               ]
            }
         ],
         "source": [
            "col_list = df.columns.tolist()\n",
            "print(col_list)\n",
            "col_list.pop(-7)  # 'draft_pick'\n",
            "col_list.append('draft_pick')\n",
            "df = df[col_list]\n",
            "print(df.columns.tolist())"
         ]
      },
      {
         "attachments": {},
         "cell_type": "markdown",
         "metadata": {},
         "source": [
            "Check non-numeric columns."
         ]
      },
      {
         "cell_type": "code",
         "execution_count": 154,
         "metadata": {},
         "outputs": [
            {
               "name": "stdout",
               "output_type": "stream",
               "text": [
                  "float64    55\n",
                  "object      9\n",
                  "uint8       5\n",
                  "int32       1\n",
                  "dtype: int64\n",
                  "Index(['player_name', 'team', 'conf', 'ht', 'player_position', 'drafted_by',\n",
                  "       'affiliation', 'draft_round', 'draft_pick'],\n",
                  "      dtype='object')\n"
               ]
            }
         ],
         "source": [
            "print(df.dtypes.value_counts())\n",
            "print(df.select_dtypes('object').columns)"
         ]
      },
      {
         "attachments": {},
         "cell_type": "markdown",
         "metadata": {},
         "source": [
            "Check target feature 'Overall' column values."
         ]
      },
      {
         "cell_type": "code",
         "execution_count": 155,
         "metadata": {},
         "outputs": [
            {
               "name": "stdout",
               "output_type": "stream",
               "text": [
                  "[ 0  8 44 20 14 33 32 50 40 13 46 58 59 26 51 37 35 19 16  7 12 54  6 11\n",
                  " 38 21 18 28 27 36  2 15 60  1 56 43 45 29  3 48 41 17  9  4 55 31 24 57\n",
                  " 30 39 25 23 42 52 34 10 47 22  5 53 49]\n"
               ]
            }
         ],
         "source": [
            "df.draft_pick.fillna(value=0, inplace=True)\n",
            "print(df.draft_pick.unique())"
         ]
      },
      {
         "attachments": {},
         "cell_type": "markdown",
         "metadata": {},
         "source": [
            "Check pick and round columns."
         ]
      },
      {
         "cell_type": "code",
         "execution_count": 156,
         "metadata": {},
         "outputs": [
            {
               "name": "stdout",
               "output_type": "stream",
               "text": [
                  "[0 1 2]\n"
               ]
            }
         ],
         "source": [
            "df.draft_round.fillna(value=0, inplace=True)\n",
            "print(df.draft_round.unique())"
         ]
      },
      {
         "attachments": {},
         "cell_type": "markdown",
         "metadata": {},
         "source": [
            "Leave only numeric data and fill all remaining columns with zeros."
         ]
      },
      {
         "cell_type": "code",
         "execution_count": 157,
         "metadata": {},
         "outputs": [],
         "source": [
            "df = df.select_dtypes(exclude='object')\n",
            "df.fillna(value=0, inplace=True)"
         ]
      },
      {
         "attachments": {},
         "cell_type": "markdown",
         "metadata": {},
         "source": [
            "Check data for the drafted_flag column."
         ]
      },
      {
         "cell_type": "code",
         "execution_count": 158,
         "metadata": {},
         "outputs": [
            {
               "name": "stdout",
               "output_type": "stream",
               "text": [
                  "year    draft_pick\n",
                  "2009.0  0             4542\n",
                  "        1                1\n",
                  "        2                1\n",
                  "        3                1\n",
                  "        4                1\n",
                  "                      ... \n",
                  "2021.0  56               1\n",
                  "        57               1\n",
                  "        58               1\n",
                  "        59               1\n",
                  "        60               1\n",
                  "Name: draft_pick, Length: 793, dtype: int64\n"
               ]
            }
         ],
         "source": [
            "print(df.groupby(['year','draft_pick'])['draft_pick'].count())"
         ]
      },
      {
         "attachments": {},
         "cell_type": "markdown",
         "metadata": {},
         "source": [
            "### 4. create visualizations and analyze statistics"
         ]
      },
      {
         "attachments": {},
         "cell_type": "markdown",
         "metadata": {},
         "source": [
            "Calculate basic statistics."
         ]
      },
      {
         "cell_type": "code",
         "execution_count": 159,
         "metadata": {},
         "outputs": [
            {
               "data": {
                  "text/html": [
                     "<div>\n",
                     "<style scoped>\n",
                     "    .dataframe tbody tr th:only-of-type {\n",
                     "        vertical-align: middle;\n",
                     "    }\n",
                     "\n",
                     "    .dataframe tbody tr th {\n",
                     "        vertical-align: top;\n",
                     "    }\n",
                     "\n",
                     "    .dataframe thead th {\n",
                     "        text-align: right;\n",
                     "    }\n",
                     "</style>\n",
                     "<table border=\"1\" class=\"dataframe\">\n",
                     "  <thead>\n",
                     "    <tr style=\"text-align: right;\">\n",
                     "      <th></th>\n",
                     "      <th>GP</th>\n",
                     "      <th>Min_per</th>\n",
                     "      <th>Ortg</th>\n",
                     "      <th>usg</th>\n",
                     "      <th>eFG</th>\n",
                     "      <th>TS_per</th>\n",
                     "      <th>ORB_per</th>\n",
                     "      <th>DRB_per</th>\n",
                     "      <th>AST_per</th>\n",
                     "      <th>TO_per</th>\n",
                     "      <th>...</th>\n",
                     "      <th>blk</th>\n",
                     "      <th>pts</th>\n",
                     "      <th>draft_round</th>\n",
                     "      <th>drafted_flag</th>\n",
                     "      <th>yr_Fr</th>\n",
                     "      <th>yr_Jr</th>\n",
                     "      <th>yr_None</th>\n",
                     "      <th>yr_So</th>\n",
                     "      <th>yr_Sr</th>\n",
                     "      <th>draft_pick</th>\n",
                     "    </tr>\n",
                     "  </thead>\n",
                     "  <tbody>\n",
                     "    <tr>\n",
                     "      <th>count</th>\n",
                     "      <td>61254.000000</td>\n",
                     "      <td>61254.000000</td>\n",
                     "      <td>61254.000000</td>\n",
                     "      <td>61254.000000</td>\n",
                     "      <td>61254.000000</td>\n",
                     "      <td>61254.000000</td>\n",
                     "      <td>61254.000000</td>\n",
                     "      <td>61254.000000</td>\n",
                     "      <td>61254.000000</td>\n",
                     "      <td>61254.000000</td>\n",
                     "      <td>...</td>\n",
                     "      <td>61254.000000</td>\n",
                     "      <td>61254.000000</td>\n",
                     "      <td>61254.000000</td>\n",
                     "      <td>61254.000000</td>\n",
                     "      <td>61254.000000</td>\n",
                     "      <td>61254.000000</td>\n",
                     "      <td>61254.000000</td>\n",
                     "      <td>61254.000000</td>\n",
                     "      <td>61254.000000</td>\n",
                     "      <td>61254.000000</td>\n",
                     "    </tr>\n",
                     "    <tr>\n",
                     "      <th>mean</th>\n",
                     "      <td>22.725928</td>\n",
                     "      <td>37.011405</td>\n",
                     "      <td>91.377572</td>\n",
                     "      <td>18.069228</td>\n",
                     "      <td>44.360554</td>\n",
                     "      <td>47.434283</td>\n",
                     "      <td>5.524787</td>\n",
                     "      <td>12.664213</td>\n",
                     "      <td>10.774643</td>\n",
                     "      <td>20.162128</td>\n",
                     "      <td>...</td>\n",
                     "      <td>0.279936</td>\n",
                     "      <td>5.751806</td>\n",
                     "      <td>0.019395</td>\n",
                     "      <td>0.012979</td>\n",
                     "      <td>0.265011</td>\n",
                     "      <td>0.265142</td>\n",
                     "      <td>0.008065</td>\n",
                     "      <td>0.236474</td>\n",
                     "      <td>0.225308</td>\n",
                     "      <td>0.393803</td>\n",
                     "    </tr>\n",
                     "    <tr>\n",
                     "      <th>std</th>\n",
                     "      <td>10.230870</td>\n",
                     "      <td>28.090986</td>\n",
                     "      <td>31.338865</td>\n",
                     "      <td>6.325983</td>\n",
                     "      <td>18.570930</td>\n",
                     "      <td>17.813551</td>\n",
                     "      <td>9.296129</td>\n",
                     "      <td>10.761744</td>\n",
                     "      <td>9.367549</td>\n",
                     "      <td>12.351467</td>\n",
                     "      <td>...</td>\n",
                     "      <td>0.414460</td>\n",
                     "      <td>4.951196</td>\n",
                     "      <td>0.178468</td>\n",
                     "      <td>0.113184</td>\n",
                     "      <td>0.441343</td>\n",
                     "      <td>0.441412</td>\n",
                     "      <td>0.089442</td>\n",
                     "      <td>0.424920</td>\n",
                     "      <td>0.417788</td>\n",
                     "      <td>3.960613</td>\n",
                     "    </tr>\n",
                     "    <tr>\n",
                     "      <th>min</th>\n",
                     "      <td>0.000000</td>\n",
                     "      <td>0.000000</td>\n",
                     "      <td>0.000000</td>\n",
                     "      <td>0.000000</td>\n",
                     "      <td>0.000000</td>\n",
                     "      <td>0.000000</td>\n",
                     "      <td>0.000000</td>\n",
                     "      <td>0.000000</td>\n",
                     "      <td>0.000000</td>\n",
                     "      <td>0.000000</td>\n",
                     "      <td>...</td>\n",
                     "      <td>0.000000</td>\n",
                     "      <td>0.000000</td>\n",
                     "      <td>0.000000</td>\n",
                     "      <td>0.000000</td>\n",
                     "      <td>0.000000</td>\n",
                     "      <td>0.000000</td>\n",
                     "      <td>0.000000</td>\n",
                     "      <td>0.000000</td>\n",
                     "      <td>0.000000</td>\n",
                     "      <td>0.000000</td>\n",
                     "    </tr>\n",
                     "    <tr>\n",
                     "      <th>25%</th>\n",
                     "      <td>15.000000</td>\n",
                     "      <td>9.000000</td>\n",
                     "      <td>83.700000</td>\n",
                     "      <td>14.500000</td>\n",
                     "      <td>40.000000</td>\n",
                     "      <td>43.700000</td>\n",
                     "      <td>1.700000</td>\n",
                     "      <td>8.400000</td>\n",
                     "      <td>4.600000</td>\n",
                     "      <td>14.600000</td>\n",
                     "      <td>...</td>\n",
                     "      <td>0.000000</td>\n",
                     "      <td>1.551700</td>\n",
                     "      <td>0.000000</td>\n",
                     "      <td>0.000000</td>\n",
                     "      <td>0.000000</td>\n",
                     "      <td>0.000000</td>\n",
                     "      <td>0.000000</td>\n",
                     "      <td>0.000000</td>\n",
                     "      <td>0.000000</td>\n",
                     "      <td>0.000000</td>\n",
                     "    </tr>\n",
                     "    <tr>\n",
                     "      <th>50%</th>\n",
                     "      <td>27.000000</td>\n",
                     "      <td>35.500000</td>\n",
                     "      <td>97.050000</td>\n",
                     "      <td>18.100000</td>\n",
                     "      <td>47.700000</td>\n",
                     "      <td>50.830000</td>\n",
                     "      <td>4.300000</td>\n",
                     "      <td>11.900000</td>\n",
                     "      <td>9.000000</td>\n",
                     "      <td>19.000000</td>\n",
                     "      <td>...</td>\n",
                     "      <td>0.133300</td>\n",
                     "      <td>4.454500</td>\n",
                     "      <td>0.000000</td>\n",
                     "      <td>0.000000</td>\n",
                     "      <td>0.000000</td>\n",
                     "      <td>0.000000</td>\n",
                     "      <td>0.000000</td>\n",
                     "      <td>0.000000</td>\n",
                     "      <td>0.000000</td>\n",
                     "      <td>0.000000</td>\n",
                     "    </tr>\n",
                     "    <tr>\n",
                     "      <th>75%</th>\n",
                     "      <td>31.000000</td>\n",
                     "      <td>61.900000</td>\n",
                     "      <td>106.900000</td>\n",
                     "      <td>21.800000</td>\n",
                     "      <td>53.300000</td>\n",
                     "      <td>56.090000</td>\n",
                     "      <td>8.100000</td>\n",
                     "      <td>16.100000</td>\n",
                     "      <td>15.000000</td>\n",
                     "      <td>24.400000</td>\n",
                     "      <td>...</td>\n",
                     "      <td>0.363600</td>\n",
                     "      <td>9.035700</td>\n",
                     "      <td>0.000000</td>\n",
                     "      <td>0.000000</td>\n",
                     "      <td>1.000000</td>\n",
                     "      <td>1.000000</td>\n",
                     "      <td>0.000000</td>\n",
                     "      <td>0.000000</td>\n",
                     "      <td>0.000000</td>\n",
                     "      <td>0.000000</td>\n",
                     "    </tr>\n",
                     "    <tr>\n",
                     "      <th>max</th>\n",
                     "      <td>41.000000</td>\n",
                     "      <td>98.000000</td>\n",
                     "      <td>834.000000</td>\n",
                     "      <td>50.000000</td>\n",
                     "      <td>150.000000</td>\n",
                     "      <td>150.000000</td>\n",
                     "      <td>1576.600000</td>\n",
                     "      <td>1385.000000</td>\n",
                     "      <td>100.000000</td>\n",
                     "      <td>100.000000</td>\n",
                     "      <td>...</td>\n",
                     "      <td>5.258100</td>\n",
                     "      <td>30.090900</td>\n",
                     "      <td>2.000000</td>\n",
                     "      <td>1.000000</td>\n",
                     "      <td>1.000000</td>\n",
                     "      <td>1.000000</td>\n",
                     "      <td>1.000000</td>\n",
                     "      <td>1.000000</td>\n",
                     "      <td>1.000000</td>\n",
                     "      <td>60.000000</td>\n",
                     "    </tr>\n",
                     "  </tbody>\n",
                     "</table>\n",
                     "<p>8 rows × 63 columns</p>\n",
                     "</div>"
                  ],
                  "text/plain": [
                     "                 GP       Min_per          Ortg           usg           eFG  \\\n",
                     "count  61254.000000  61254.000000  61254.000000  61254.000000  61254.000000   \n",
                     "mean      22.725928     37.011405     91.377572     18.069228     44.360554   \n",
                     "std       10.230870     28.090986     31.338865      6.325983     18.570930   \n",
                     "min        0.000000      0.000000      0.000000      0.000000      0.000000   \n",
                     "25%       15.000000      9.000000     83.700000     14.500000     40.000000   \n",
                     "50%       27.000000     35.500000     97.050000     18.100000     47.700000   \n",
                     "75%       31.000000     61.900000    106.900000     21.800000     53.300000   \n",
                     "max       41.000000     98.000000    834.000000     50.000000    150.000000   \n",
                     "\n",
                     "             TS_per       ORB_per       DRB_per       AST_per        TO_per  \\\n",
                     "count  61254.000000  61254.000000  61254.000000  61254.000000  61254.000000   \n",
                     "mean      47.434283      5.524787     12.664213     10.774643     20.162128   \n",
                     "std       17.813551      9.296129     10.761744      9.367549     12.351467   \n",
                     "min        0.000000      0.000000      0.000000      0.000000      0.000000   \n",
                     "25%       43.700000      1.700000      8.400000      4.600000     14.600000   \n",
                     "50%       50.830000      4.300000     11.900000      9.000000     19.000000   \n",
                     "75%       56.090000      8.100000     16.100000     15.000000     24.400000   \n",
                     "max      150.000000   1576.600000   1385.000000    100.000000    100.000000   \n",
                     "\n",
                     "       ...           blk           pts   draft_round  drafted_flag  \\\n",
                     "count  ...  61254.000000  61254.000000  61254.000000  61254.000000   \n",
                     "mean   ...      0.279936      5.751806      0.019395      0.012979   \n",
                     "std    ...      0.414460      4.951196      0.178468      0.113184   \n",
                     "min    ...      0.000000      0.000000      0.000000      0.000000   \n",
                     "25%    ...      0.000000      1.551700      0.000000      0.000000   \n",
                     "50%    ...      0.133300      4.454500      0.000000      0.000000   \n",
                     "75%    ...      0.363600      9.035700      0.000000      0.000000   \n",
                     "max    ...      5.258100     30.090900      2.000000      1.000000   \n",
                     "\n",
                     "              yr_Fr         yr_Jr       yr_None         yr_So         yr_Sr  \\\n",
                     "count  61254.000000  61254.000000  61254.000000  61254.000000  61254.000000   \n",
                     "mean       0.265011      0.265142      0.008065      0.236474      0.225308   \n",
                     "std        0.441343      0.441412      0.089442      0.424920      0.417788   \n",
                     "min        0.000000      0.000000      0.000000      0.000000      0.000000   \n",
                     "25%        0.000000      0.000000      0.000000      0.000000      0.000000   \n",
                     "50%        0.000000      0.000000      0.000000      0.000000      0.000000   \n",
                     "75%        1.000000      1.000000      0.000000      0.000000      0.000000   \n",
                     "max        1.000000      1.000000      1.000000      1.000000      1.000000   \n",
                     "\n",
                     "         draft_pick  \n",
                     "count  61254.000000  \n",
                     "mean       0.393803  \n",
                     "std        3.960613  \n",
                     "min        0.000000  \n",
                     "25%        0.000000  \n",
                     "50%        0.000000  \n",
                     "75%        0.000000  \n",
                     "max       60.000000  \n",
                     "\n",
                     "[8 rows x 63 columns]"
                  ]
               },
               "execution_count": 159,
               "metadata": {},
               "output_type": "execute_result"
            }
         ],
         "source": [
            "df.describe()"
         ]
      },
      {
         "attachments": {},
         "cell_type": "markdown",
         "metadata": {},
         "source": [
            "Create correlation matrix."
         ]
      },
      {
         "cell_type": "code",
         "execution_count": 160,
         "metadata": {},
         "outputs": [
            {
               "name": "stdout",
               "output_type": "stream",
               "text": [
                  "       Variable1 Variable2  Correlation\n",
                  "0             GP   Min_per     0.767260\n",
                  "1             GP      Ortg     0.447655\n",
                  "2             GP       usg     0.210187\n",
                  "3             GP       eFG     0.420294\n",
                  "4             GP    TS_per     0.438828\n",
                  "...          ...       ...          ...\n",
                  "3901  draft_pick     yr_Fr    -0.034815\n",
                  "3902  draft_pick     yr_Jr    -0.024464\n",
                  "3903  draft_pick   yr_None     0.288105\n",
                  "3904  draft_pick     yr_So    -0.020684\n",
                  "3905  draft_pick     yr_Sr     0.021983\n",
                  "\n",
                  "[3906 rows x 3 columns]\n"
               ]
            }
         ],
         "source": [
            "corr_matrix = df.corr()\n",
            "corr_matrix = corr_matrix[abs(corr_matrix) < 1]\n",
            "corr_matrix = corr_matrix.stack().reset_index()\n",
            "corr_matrix.columns = ['Variable1','Variable2','Correlation']\n",
            "print(corr_matrix)"
         ]
      },
      {
         "cell_type": "code",
         "execution_count": 163,
         "metadata": {},
         "outputs": [
            {
               "data": {
                  "text/html": [
                     "<div>\n",
                     "<style scoped>\n",
                     "    .dataframe tbody tr th:only-of-type {\n",
                     "        vertical-align: middle;\n",
                     "    }\n",
                     "\n",
                     "    .dataframe tbody tr th {\n",
                     "        vertical-align: top;\n",
                     "    }\n",
                     "\n",
                     "    .dataframe thead th {\n",
                     "        text-align: right;\n",
                     "    }\n",
                     "</style>\n",
                     "<table border=\"1\" class=\"dataframe\">\n",
                     "  <thead>\n",
                     "    <tr style=\"text-align: right;\">\n",
                     "      <th></th>\n",
                     "      <th>Variable1</th>\n",
                     "      <th>Variable2</th>\n",
                     "      <th>Correlation</th>\n",
                     "    </tr>\n",
                     "  </thead>\n",
                     "  <tbody>\n",
                     "    <tr>\n",
                     "      <th>3882</th>\n",
                     "      <td>draft_pick</td>\n",
                     "      <td>adrtg</td>\n",
                     "      <td>-0.276538</td>\n",
                     "    </tr>\n",
                     "    <tr>\n",
                     "      <th>3881</th>\n",
                     "      <td>draft_pick</td>\n",
                     "      <td>drtg</td>\n",
                     "      <td>-0.267815</td>\n",
                     "    </tr>\n",
                     "    <tr>\n",
                     "      <th>3853</th>\n",
                     "      <td>draft_pick</td>\n",
                     "      <td>TO_per</td>\n",
                     "      <td>-0.065715</td>\n",
                     "    </tr>\n",
                     "    <tr>\n",
                     "      <th>3868</th>\n",
                     "      <td>draft_pick</td>\n",
                     "      <td>pfr</td>\n",
                     "      <td>-0.044795</td>\n",
                     "    </tr>\n",
                     "    <tr>\n",
                     "      <th>3901</th>\n",
                     "      <td>draft_pick</td>\n",
                     "      <td>yr_Fr</td>\n",
                     "      <td>-0.034815</td>\n",
                     "    </tr>\n",
                     "    <tr>\n",
                     "      <th>...</th>\n",
                     "      <td>...</td>\n",
                     "      <td>...</td>\n",
                     "      <td>...</td>\n",
                     "    </tr>\n",
                     "    <tr>\n",
                     "      <th>3878</th>\n",
                     "      <td>draft_pick</td>\n",
                     "      <td>dunksmade</td>\n",
                     "      <td>0.135634</td>\n",
                     "    </tr>\n",
                     "    <tr>\n",
                     "      <th>3866</th>\n",
                     "      <td>draft_pick</td>\n",
                     "      <td>porpag</td>\n",
                     "      <td>0.163103</td>\n",
                     "    </tr>\n",
                     "    <tr>\n",
                     "      <th>3903</th>\n",
                     "      <td>draft_pick</td>\n",
                     "      <td>yr_None</td>\n",
                     "      <td>0.288105</td>\n",
                     "    </tr>\n",
                     "    <tr>\n",
                     "      <th>3900</th>\n",
                     "      <td>draft_pick</td>\n",
                     "      <td>drafted_flag</td>\n",
                     "      <td>0.867095</td>\n",
                     "    </tr>\n",
                     "    <tr>\n",
                     "      <th>3899</th>\n",
                     "      <td>draft_pick</td>\n",
                     "      <td>draft_round</td>\n",
                     "      <td>0.959463</td>\n",
                     "    </tr>\n",
                     "  </tbody>\n",
                     "</table>\n",
                     "<p>62 rows × 3 columns</p>\n",
                     "</div>"
                  ],
                  "text/plain": [
                     "       Variable1     Variable2  Correlation\n",
                     "3882  draft_pick         adrtg    -0.276538\n",
                     "3881  draft_pick          drtg    -0.267815\n",
                     "3853  draft_pick        TO_per    -0.065715\n",
                     "3868  draft_pick           pfr    -0.044795\n",
                     "3901  draft_pick         yr_Fr    -0.034815\n",
                     "...          ...           ...          ...\n",
                     "3878  draft_pick     dunksmade     0.135634\n",
                     "3866  draft_pick        porpag     0.163103\n",
                     "3903  draft_pick       yr_None     0.288105\n",
                     "3900  draft_pick  drafted_flag     0.867095\n",
                     "3899  draft_pick   draft_round     0.959463\n",
                     "\n",
                     "[62 rows x 3 columns]"
                  ]
               },
               "execution_count": 163,
               "metadata": {},
               "output_type": "execute_result"
            }
         ],
         "source": [
            "corr_matrix[corr_matrix.Variable1 == 'draft_pick'].sort_values(by='Correlation')"
         ]
      },
      {
         "attachments": {},
         "cell_type": "markdown",
         "metadata": {},
         "source": [
            "Calculate the empirical distribution of the target feature per year."
         ]
      },
      {
         "cell_type": "code",
         "execution_count": 165,
         "metadata": {},
         "outputs": [
            {
               "name": "stdout",
               "output_type": "stream",
               "text": [
                  "year\n",
                  "2009.0    0.013035\n",
                  "2010.0    0.012750\n",
                  "2011.0    0.013582\n",
                  "2012.0    0.013055\n",
                  "2013.0    0.012754\n",
                  "2014.0    0.012658\n",
                  "2015.0    0.012653\n",
                  "2016.0    0.012511\n",
                  "2017.0    0.013031\n",
                  "2018.0    0.012497\n",
                  "2019.0    0.012416\n",
                  "2020.0    0.012642\n",
                  "2021.0    0.012442\n",
                  "dtype: float64\n"
               ]
            }
         ],
         "source": [
            "drafted_per_year = df[df.draft_pick > 1].groupby('year').count()['draft_pick']\n",
            "count_per_year = df.groupby('year').count()['GP']\n",
            "yearly_drafts = drafted_per_year/count_per_year\n",
            "print(yearly_drafts)"
         ]
      },
      {
         "attachments": {},
         "cell_type": "markdown",
         "metadata": {},
         "source": [
            "Plot the heatmap of the correlations."
         ]
      },
      {
         "cell_type": "code",
         "execution_count": 166,
         "metadata": {},
         "outputs": [
            {
               "data": {
                  "text/plain": [
                     "<Axes: >"
                  ]
               },
               "execution_count": 166,
               "metadata": {},
               "output_type": "execute_result"
            },
            {
               "data": {
                  "image/png": "[encoded data removed]",
                  "text/plain": [
                     "<Figure size 500x500 with 2 Axes>"
                  ]
               },
               "metadata": {},
               "output_type": "display_data"
            }
         ],
         "source": [
            "# plot settings\n",
            "plt.rcParams['figure.figsize']=(5,5)\n",
            "\n",
            "# heatmap of the correlations\n",
            "sns.heatmap(df.corr(),annot=False)"
         ]
      },
      {
         "attachments": {},
         "cell_type": "markdown",
         "metadata": {},
         "source": [
            "Plot the histogram of the target feature."
         ]
      },
      {
         "cell_type": "code",
         "execution_count": 167,
         "metadata": {},
         "outputs": [
            {
               "data": {
                  "text/plain": [
                     "<Axes: xlabel='draft_pick', ylabel='Count'>"
                  ]
               },
               "execution_count": 167,
               "metadata": {},
               "output_type": "execute_result"
            },
            {
               "data": {
                  "image/png": "[encoded data removed]",
                  "text/plain": [
                     "<Figure size 500x500 with 1 Axes>"
                  ]
               },
               "metadata": {},
               "output_type": "display_data"
            }
         ],
         "source": [
            "sns.histplot(data=df, x=\"draft_pick\", hue=\"year\",palette=\"Set1\")"
         ]
      },
      {
         "attachments": {},
         "cell_type": "markdown",
         "metadata": {},
         "source": [
            "Check the ratio of the target feature labels."
         ]
      },
      {
         "cell_type": "code",
         "execution_count": 168,
         "metadata": {},
         "outputs": [
            {
               "data": {
                  "text/plain": [
                     "0     60459\n",
                     "20       17\n",
                     "4        15\n",
                     "59       14\n",
                     "30       14\n",
                     "      ...  \n",
                     "32       13\n",
                     "60       13\n",
                     "1        13\n",
                     "56       13\n",
                     "49       13\n",
                     "Name: draft_pick, Length: 61, dtype: int64"
                  ]
               },
               "execution_count": 168,
               "metadata": {},
               "output_type": "execute_result"
            }
         ],
         "source": [
            "df.draft_pick.value_counts()"
         ]
      },
      {
         "attachments": {},
         "cell_type": "markdown",
         "metadata": {},
         "source": [
            "Check the correlations with the highest absolute value between the target feature and the predictors."
         ]
      },
      {
         "cell_type": "code",
         "execution_count": 169,
         "metadata": {},
         "outputs": [
            {
               "name": "stdout",
               "output_type": "stream",
               "text": [
                  "       Variable1     Variable2  Correlation\n",
                  "3899  draft_pick   draft_round     0.959463\n",
                  "3900  draft_pick  drafted_flag     0.867095\n",
                  "3903  draft_pick       yr_None     0.288105\n",
                  "3866  draft_pick        porpag     0.163103\n",
                  "3878  draft_pick     dunksmade     0.135634\n",
                  "...          ...           ...          ...\n",
                  "3901  draft_pick         yr_Fr    -0.034815\n",
                  "3868  draft_pick           pfr    -0.044795\n",
                  "3853  draft_pick        TO_per    -0.065715\n",
                  "3881  draft_pick          drtg    -0.267815\n",
                  "3882  draft_pick         adrtg    -0.276538\n",
                  "\n",
                  "[62 rows x 3 columns]\n"
               ]
            }
         ],
         "source": [
            "drafted_corr_matrix = corr_matrix[corr_matrix.Variable1 == 'draft_pick'].sort_values(by='Correlation',ascending=False)\n",
            "print(drafted_corr_matrix.sort_values(by='Correlation',ascending=False))"
         ]
      },
      {
         "cell_type": "code",
         "execution_count": 171,
         "metadata": {},
         "outputs": [
            {
               "data": {
                  "text/html": [
                     "<div>\n",
                     "<style scoped>\n",
                     "    .dataframe tbody tr th:only-of-type {\n",
                     "        vertical-align: middle;\n",
                     "    }\n",
                     "\n",
                     "    .dataframe tbody tr th {\n",
                     "        vertical-align: top;\n",
                     "    }\n",
                     "\n",
                     "    .dataframe thead th {\n",
                     "        text-align: right;\n",
                     "    }\n",
                     "</style>\n",
                     "<table border=\"1\" class=\"dataframe\">\n",
                     "  <thead>\n",
                     "    <tr style=\"text-align: right;\">\n",
                     "      <th></th>\n",
                     "      <th>GP</th>\n",
                     "      <th>Min_per</th>\n",
                     "      <th>Ortg</th>\n",
                     "      <th>usg</th>\n",
                     "      <th>eFG</th>\n",
                     "      <th>TS_per</th>\n",
                     "      <th>ORB_per</th>\n",
                     "      <th>DRB_per</th>\n",
                     "      <th>AST_per</th>\n",
                     "      <th>TO_per</th>\n",
                     "      <th>...</th>\n",
                     "      <th>blk</th>\n",
                     "      <th>pts</th>\n",
                     "      <th>draft_round</th>\n",
                     "      <th>drafted_flag</th>\n",
                     "      <th>yr_Fr</th>\n",
                     "      <th>yr_Jr</th>\n",
                     "      <th>yr_None</th>\n",
                     "      <th>yr_So</th>\n",
                     "      <th>yr_Sr</th>\n",
                     "      <th>draft_pick</th>\n",
                     "    </tr>\n",
                     "  </thead>\n",
                     "  <tbody>\n",
                     "    <tr>\n",
                     "      <th>114</th>\n",
                     "      <td>34.0</td>\n",
                     "      <td>86.3</td>\n",
                     "      <td>108.9</td>\n",
                     "      <td>28.0</td>\n",
                     "      <td>53.7</td>\n",
                     "      <td>56.04</td>\n",
                     "      <td>15.4</td>\n",
                     "      <td>22.2</td>\n",
                     "      <td>9.6</td>\n",
                     "      <td>17.5</td>\n",
                     "      <td>...</td>\n",
                     "      <td>1.7059</td>\n",
                     "      <td>18.2647</td>\n",
                     "      <td>1</td>\n",
                     "      <td>1</td>\n",
                     "      <td>0</td>\n",
                     "      <td>1</td>\n",
                     "      <td>0</td>\n",
                     "      <td>0</td>\n",
                     "      <td>0</td>\n",
                     "      <td>8</td>\n",
                     "    </tr>\n",
                     "    <tr>\n",
                     "      <th>115</th>\n",
                     "      <td>35.0</td>\n",
                     "      <td>93.7</td>\n",
                     "      <td>117.5</td>\n",
                     "      <td>23.9</td>\n",
                     "      <td>55.4</td>\n",
                     "      <td>59.42</td>\n",
                     "      <td>4.9</td>\n",
                     "      <td>14.8</td>\n",
                     "      <td>19.0</td>\n",
                     "      <td>16.6</td>\n",
                     "      <td>...</td>\n",
                     "      <td>0.4571</td>\n",
                     "      <td>18.0000</td>\n",
                     "      <td>2</td>\n",
                     "      <td>1</td>\n",
                     "      <td>0</td>\n",
                     "      <td>1</td>\n",
                     "      <td>0</td>\n",
                     "      <td>0</td>\n",
                     "      <td>0</td>\n",
                     "      <td>44</td>\n",
                     "    </tr>\n",
                     "    <tr>\n",
                     "      <th>154</th>\n",
                     "      <td>34.0</td>\n",
                     "      <td>88.0</td>\n",
                     "      <td>117.3</td>\n",
                     "      <td>32.6</td>\n",
                     "      <td>52.4</td>\n",
                     "      <td>58.33</td>\n",
                     "      <td>1.6</td>\n",
                     "      <td>10.0</td>\n",
                     "      <td>40.8</td>\n",
                     "      <td>15.4</td>\n",
                     "      <td>...</td>\n",
                     "      <td>0.1765</td>\n",
                     "      <td>22.3529</td>\n",
                     "      <td>1</td>\n",
                     "      <td>1</td>\n",
                     "      <td>0</td>\n",
                     "      <td>0</td>\n",
                     "      <td>0</td>\n",
                     "      <td>0</td>\n",
                     "      <td>1</td>\n",
                     "      <td>20</td>\n",
                     "    </tr>\n",
                     "    <tr>\n",
                     "      <th>192</th>\n",
                     "      <td>37.0</td>\n",
                     "      <td>85.4</td>\n",
                     "      <td>100.3</td>\n",
                     "      <td>24.6</td>\n",
                     "      <td>49.2</td>\n",
                     "      <td>51.67</td>\n",
                     "      <td>9.1</td>\n",
                     "      <td>18.7</td>\n",
                     "      <td>18.2</td>\n",
                     "      <td>22.0</td>\n",
                     "      <td>...</td>\n",
                     "      <td>1.3784</td>\n",
                     "      <td>14.1892</td>\n",
                     "      <td>1</td>\n",
                     "      <td>1</td>\n",
                     "      <td>0</td>\n",
                     "      <td>1</td>\n",
                     "      <td>0</td>\n",
                     "      <td>0</td>\n",
                     "      <td>0</td>\n",
                     "      <td>14</td>\n",
                     "    </tr>\n",
                     "    <tr>\n",
                     "      <th>234</th>\n",
                     "      <td>38.0</td>\n",
                     "      <td>78.6</td>\n",
                     "      <td>109.0</td>\n",
                     "      <td>24.7</td>\n",
                     "      <td>52.5</td>\n",
                     "      <td>55.68</td>\n",
                     "      <td>9.5</td>\n",
                     "      <td>17.0</td>\n",
                     "      <td>8.8</td>\n",
                     "      <td>15.8</td>\n",
                     "      <td>...</td>\n",
                     "      <td>1.2368</td>\n",
                     "      <td>16.1053</td>\n",
                     "      <td>2</td>\n",
                     "      <td>1</td>\n",
                     "      <td>0</td>\n",
                     "      <td>0</td>\n",
                     "      <td>0</td>\n",
                     "      <td>0</td>\n",
                     "      <td>1</td>\n",
                     "      <td>33</td>\n",
                     "    </tr>\n",
                     "    <tr>\n",
                     "      <th>...</th>\n",
                     "      <td>...</td>\n",
                     "      <td>...</td>\n",
                     "      <td>...</td>\n",
                     "      <td>...</td>\n",
                     "      <td>...</td>\n",
                     "      <td>...</td>\n",
                     "      <td>...</td>\n",
                     "      <td>...</td>\n",
                     "      <td>...</td>\n",
                     "      <td>...</td>\n",
                     "      <td>...</td>\n",
                     "      <td>...</td>\n",
                     "      <td>...</td>\n",
                     "      <td>...</td>\n",
                     "      <td>...</td>\n",
                     "      <td>...</td>\n",
                     "      <td>...</td>\n",
                     "      <td>...</td>\n",
                     "      <td>...</td>\n",
                     "      <td>...</td>\n",
                     "      <td>...</td>\n",
                     "    </tr>\n",
                     "    <tr>\n",
                     "      <th>65227</th>\n",
                     "      <td>0.0</td>\n",
                     "      <td>0.0</td>\n",
                     "      <td>0.0</td>\n",
                     "      <td>0.0</td>\n",
                     "      <td>0.0</td>\n",
                     "      <td>0.00</td>\n",
                     "      <td>0.0</td>\n",
                     "      <td>0.0</td>\n",
                     "      <td>0.0</td>\n",
                     "      <td>0.0</td>\n",
                     "      <td>...</td>\n",
                     "      <td>0.0000</td>\n",
                     "      <td>0.0000</td>\n",
                     "      <td>2</td>\n",
                     "      <td>1</td>\n",
                     "      <td>0</td>\n",
                     "      <td>0</td>\n",
                     "      <td>1</td>\n",
                     "      <td>0</td>\n",
                     "      <td>0</td>\n",
                     "      <td>47</td>\n",
                     "    </tr>\n",
                     "    <tr>\n",
                     "      <th>65228</th>\n",
                     "      <td>0.0</td>\n",
                     "      <td>0.0</td>\n",
                     "      <td>0.0</td>\n",
                     "      <td>0.0</td>\n",
                     "      <td>0.0</td>\n",
                     "      <td>0.00</td>\n",
                     "      <td>0.0</td>\n",
                     "      <td>0.0</td>\n",
                     "      <td>0.0</td>\n",
                     "      <td>0.0</td>\n",
                     "      <td>...</td>\n",
                     "      <td>0.0000</td>\n",
                     "      <td>0.0000</td>\n",
                     "      <td>2</td>\n",
                     "      <td>1</td>\n",
                     "      <td>0</td>\n",
                     "      <td>0</td>\n",
                     "      <td>1</td>\n",
                     "      <td>0</td>\n",
                     "      <td>0</td>\n",
                     "      <td>49</td>\n",
                     "    </tr>\n",
                     "    <tr>\n",
                     "      <th>65229</th>\n",
                     "      <td>0.0</td>\n",
                     "      <td>0.0</td>\n",
                     "      <td>0.0</td>\n",
                     "      <td>0.0</td>\n",
                     "      <td>0.0</td>\n",
                     "      <td>0.00</td>\n",
                     "      <td>0.0</td>\n",
                     "      <td>0.0</td>\n",
                     "      <td>0.0</td>\n",
                     "      <td>0.0</td>\n",
                     "      <td>...</td>\n",
                     "      <td>0.0000</td>\n",
                     "      <td>0.0000</td>\n",
                     "      <td>2</td>\n",
                     "      <td>1</td>\n",
                     "      <td>0</td>\n",
                     "      <td>0</td>\n",
                     "      <td>1</td>\n",
                     "      <td>0</td>\n",
                     "      <td>0</td>\n",
                     "      <td>52</td>\n",
                     "    </tr>\n",
                     "    <tr>\n",
                     "      <th>65230</th>\n",
                     "      <td>0.0</td>\n",
                     "      <td>0.0</td>\n",
                     "      <td>0.0</td>\n",
                     "      <td>0.0</td>\n",
                     "      <td>0.0</td>\n",
                     "      <td>0.00</td>\n",
                     "      <td>0.0</td>\n",
                     "      <td>0.0</td>\n",
                     "      <td>0.0</td>\n",
                     "      <td>0.0</td>\n",
                     "      <td>...</td>\n",
                     "      <td>0.0000</td>\n",
                     "      <td>0.0000</td>\n",
                     "      <td>2</td>\n",
                     "      <td>1</td>\n",
                     "      <td>0</td>\n",
                     "      <td>0</td>\n",
                     "      <td>1</td>\n",
                     "      <td>0</td>\n",
                     "      <td>0</td>\n",
                     "      <td>53</td>\n",
                     "    </tr>\n",
                     "    <tr>\n",
                     "      <th>65231</th>\n",
                     "      <td>0.0</td>\n",
                     "      <td>0.0</td>\n",
                     "      <td>0.0</td>\n",
                     "      <td>0.0</td>\n",
                     "      <td>0.0</td>\n",
                     "      <td>0.00</td>\n",
                     "      <td>0.0</td>\n",
                     "      <td>0.0</td>\n",
                     "      <td>0.0</td>\n",
                     "      <td>0.0</td>\n",
                     "      <td>...</td>\n",
                     "      <td>0.0000</td>\n",
                     "      <td>0.0000</td>\n",
                     "      <td>2</td>\n",
                     "      <td>1</td>\n",
                     "      <td>0</td>\n",
                     "      <td>0</td>\n",
                     "      <td>1</td>\n",
                     "      <td>0</td>\n",
                     "      <td>0</td>\n",
                     "      <td>57</td>\n",
                     "    </tr>\n",
                     "  </tbody>\n",
                     "</table>\n",
                     "<p>795 rows × 63 columns</p>\n",
                     "</div>"
                  ],
                  "text/plain": [
                     "         GP  Min_per   Ortg   usg   eFG  TS_per  ORB_per  DRB_per  AST_per  \\\n",
                     "114    34.0     86.3  108.9  28.0  53.7   56.04     15.4     22.2      9.6   \n",
                     "115    35.0     93.7  117.5  23.9  55.4   59.42      4.9     14.8     19.0   \n",
                     "154    34.0     88.0  117.3  32.6  52.4   58.33      1.6     10.0     40.8   \n",
                     "192    37.0     85.4  100.3  24.6  49.2   51.67      9.1     18.7     18.2   \n",
                     "234    38.0     78.6  109.0  24.7  52.5   55.68      9.5     17.0      8.8   \n",
                     "...     ...      ...    ...   ...   ...     ...      ...      ...      ...   \n",
                     "65227   0.0      0.0    0.0   0.0   0.0    0.00      0.0      0.0      0.0   \n",
                     "65228   0.0      0.0    0.0   0.0   0.0    0.00      0.0      0.0      0.0   \n",
                     "65229   0.0      0.0    0.0   0.0   0.0    0.00      0.0      0.0      0.0   \n",
                     "65230   0.0      0.0    0.0   0.0   0.0    0.00      0.0      0.0      0.0   \n",
                     "65231   0.0      0.0    0.0   0.0   0.0    0.00      0.0      0.0      0.0   \n",
                     "\n",
                     "       TO_per  ...     blk      pts  draft_round  drafted_flag  yr_Fr  yr_Jr  \\\n",
                     "114      17.5  ...  1.7059  18.2647            1             1      0      1   \n",
                     "115      16.6  ...  0.4571  18.0000            2             1      0      1   \n",
                     "154      15.4  ...  0.1765  22.3529            1             1      0      0   \n",
                     "192      22.0  ...  1.3784  14.1892            1             1      0      1   \n",
                     "234      15.8  ...  1.2368  16.1053            2             1      0      0   \n",
                     "...       ...  ...     ...      ...          ...           ...    ...    ...   \n",
                     "65227     0.0  ...  0.0000   0.0000            2             1      0      0   \n",
                     "65228     0.0  ...  0.0000   0.0000            2             1      0      0   \n",
                     "65229     0.0  ...  0.0000   0.0000            2             1      0      0   \n",
                     "65230     0.0  ...  0.0000   0.0000            2             1      0      0   \n",
                     "65231     0.0  ...  0.0000   0.0000            2             1      0      0   \n",
                     "\n",
                     "       yr_None  yr_So  yr_Sr  draft_pick  \n",
                     "114          0      0      0           8  \n",
                     "115          0      0      0          44  \n",
                     "154          0      0      1          20  \n",
                     "192          0      0      0          14  \n",
                     "234          0      0      1          33  \n",
                     "...        ...    ...    ...         ...  \n",
                     "65227        1      0      0          47  \n",
                     "65228        1      0      0          49  \n",
                     "65229        1      0      0          52  \n",
                     "65230        1      0      0          53  \n",
                     "65231        1      0      0          57  \n",
                     "\n",
                     "[795 rows x 63 columns]"
                  ]
               },
               "execution_count": 171,
               "metadata": {},
               "output_type": "execute_result"
            }
         ],
         "source": [
            "df[df.draft_pick > 0]"
         ]
      },
      {
         "cell_type": "code",
         "execution_count": null,
         "metadata": {},
         "outputs": [],
         "source": []
      },
      {
         "attachments": {},
         "cell_type": "markdown",
         "metadata": {},
         "source": [
            "### 5. Random model creation"
         ]
      },
      {
         "attachments": {},
         "cell_type": "markdown",
         "metadata": {},
         "source": [
            "Use the empirical distribution of the drafted flag feature to create a random model predicting the drafted players (Bernoulli distribution)."
         ]
      },
      {
         "cell_type": "code",
         "execution_count": 31,
         "metadata": {},
         "outputs": [
            {
               "name": "stdout",
               "output_type": "stream",
               "text": [
                  "pred_drafted_flag\n",
                  "0                    60509\n",
                  "1                      552\n",
                  "dtype: int64\n"
               ]
            }
         ],
         "source": [
            "from scipy.stats import bernoulli\n",
            "\n",
            "# probability of drafted flag = 1\n",
            "prob_drafted = np.average(yearly_drafts)\n",
            "\n",
            "# random model with the given Bernoulli distribution with the length of\n",
            "rand_model = pd.DataFrame(data=[bernoulli(prob_drafted).rvs(len(df))])\n",
            "rand_model = rand_model.transpose()\n",
            "rand_model.columns = ['pred_drafted_flag']\n",
            "\n",
            "print(rand_model.value_counts())"
         ]
      },
      {
         "attachments": {},
         "cell_type": "markdown",
         "metadata": {},
         "source": [
            "### 6. Random model evaluation"
         ]
      },
      {
         "cell_type": "code",
         "execution_count": 32,
         "metadata": {},
         "outputs": [
            {
               "name": "stdout",
               "output_type": "stream",
               "text": [
                  "[[59912   547]\n",
                  " [  597     5]]\n",
                  "              precision    recall  f1-score   support\n",
                  "\n",
                  "           0       0.99      0.99      0.99     60459\n",
                  "           1       0.01      0.01      0.01       602\n",
                  "\n",
                  "    accuracy                           0.98     61061\n",
                  "   macro avg       0.50      0.50      0.50     61061\n",
                  "weighted avg       0.98      0.98      0.98     61061\n",
                  "\n"
               ]
            }
         ],
         "source": [
            "# evaluate the random model\n",
            "from sklearn.metrics import confusion_matrix, classification_report\n",
            "\n",
            "cm = confusion_matrix(y_pred=rand_model.pred_drafted_flag, y_true=df.drafted_flag)\n",
            "cp = classification_report(y_pred=rand_model.pred_drafted_flag, y_true=df.drafted_flag)\n",
            "print(cm, cp, sep='\\n')"
         ]
      }
   ],
   "metadata": {
      "kernelspec": {
         "display_name": ".venv",
         "language": "python",
         "name": "python3"
      },
      "language_info": {
         "codemirror_mode": {
            "name": "ipython",
            "version": 3
         },
         "file_extension": ".py",
         "mimetype": "text/x-python",
         "name": "python",
         "nbconvert_exporter": "python",
         "pygments_lexer": "ipython3",
         "version": "3.11.2"
      },
      "orig_nbformat": 4,
      "vscode": {
         "interpreter": {
            "hash": "bac7d29c965e45fe5a19c676ea45bb965084d69bd807afb6434490090b4c39e2"
         }
      }
   },
   "nbformat": 4,
   "nbformat_minor": 2
}
